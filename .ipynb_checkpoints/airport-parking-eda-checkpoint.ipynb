{
 "cells": [
  {
   "cell_type": "markdown",
   "id": "208f3d46-3a43-46e6-a325-e05cc0c0389e",
   "metadata": {},
   "source": [
    "#### Detect and Correct Outliers\n",
    "```Use visualizations (boxplots, histograms) or statistical thresholds to find abnormal values.```"
   ]
  },
  {
   "cell_type": "markdown",
   "id": "ca6ce226-1227-4dd8-93c1-8a83a204edf3",
   "metadata": {},
   "source": [
    "#### Exploratory Data Analysis"
   ]
  },
  {
   "cell_type": "markdown",
   "id": "c014622a-608a-440b-a3d0-2a9a506946ae",
   "metadata": {},
   "source": [
    "##### Analysing Payment Methods\n",
    "``` Main goal of this step is to understand following:\n",
    "1. What are the available payment methods?\n",
    "2. What is the ratio of each payment method?\n",
    "```"
   ]
  },
  {
   "cell_type": "markdown",
   "id": "64aa3562-9efb-4dac-b4c3-601a02c7aa4e",
   "metadata": {},
   "source": [
    "##### Conclusion:\n",
    "```\n",
    "1. What are the available payment methods?\n",
    "- Available payment method: 'CARD' 'App - Wallet' 'COINS' 'App - Credit Card' 'Apple Pay'\n",
    " 'App - Validation' 'Google Pay' 'App - Free'\n",
    "\n",
    "2. What is the ratio of each payment method?\n",
    "- As per above bar plot we can see 55% customers are using \"App-Wallet\" as their preferred payment method. In the second place around 37%\n",
    "customers are using \"CARD\". So collectively 92% payment revenu is being generated from \"App-Wallet\" & \"CARD\" payment.\n",
    "```"
   ]
  },
  {
   "cell_type": "markdown",
   "id": "9e497831-17ed-416f-99c9-9c31accef62f",
   "metadata": {},
   "source": [
    "##### Analysing Kiosk Occupancy\n",
    "``` Main goal of this step is to understand following:\n",
    "1. What are the available Kiosk?\n",
    "2. What is the ratio of each kiosk?\n",
    "```"
   ]
  },
  {
   "cell_type": "code",
   "execution_count": null,
   "id": "543072b7-3b3f-4a6f-b2a4-30f5b27aa565",
   "metadata": {},
   "outputs": [],
   "source": []
  }
 ],
 "metadata": {
  "kernelspec": {
   "display_name": "Python 3 (ipykernel)",
   "language": "python",
   "name": "python3"
  },
  "language_info": {
   "codemirror_mode": {
    "name": "ipython",
    "version": 3
   },
   "file_extension": ".py",
   "mimetype": "text/x-python",
   "name": "python",
   "nbconvert_exporter": "python",
   "pygments_lexer": "ipython3",
   "version": "3.13.5"
  }
 },
 "nbformat": 4,
 "nbformat_minor": 5
}
