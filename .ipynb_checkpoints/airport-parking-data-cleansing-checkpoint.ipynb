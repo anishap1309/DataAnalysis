{
 "cells": [
  {
   "cell_type": "markdown",
   "id": "863cace7-8241-4279-a07a-26440af7c213",
   "metadata": {},
   "source": [
    "``` Author: Anisha Pandey``` <br/>\n",
    "``` Email: anishap1309@gmail.com``` <br/>\n",
    "``` Linkedin: https://www.linkedin.com/in/anishapandey```"
   ]
  },
  {
   "cell_type": "markdown",
   "id": "f5d57d34-1018-4eeb-9439-eafc3087d78f",
   "metadata": {},
   "source": [
    "### Importing python libraries"
   ]
  },
  {
   "cell_type": "code",
   "execution_count": 15,
   "id": "d8fb55b1-cc6b-4ab1-bd27-f5ca0c5d91ee",
   "metadata": {},
   "outputs": [],
   "source": [
    "\n",
    "import pandas as pd\n",
    "import numpy as np\n",
    "import matplotlib.pyplot as plt\n",
    "from sqlalchemy import create_engine\n",
    "import seaborn as sns"
   ]
  },
  {
   "cell_type": "markdown",
   "id": "ae150e97-480c-4970-a11c-2cacb19c03b4",
   "metadata": {},
   "source": [
    "### Define file path variables"
   ]
  },
  {
   "cell_type": "code",
   "execution_count": 16,
   "id": "24da04db-30d1-477f-acde-e1b5eb131350",
   "metadata": {},
   "outputs": [
    {
     "name": "stdout",
     "output_type": "stream",
     "text": [
      "E:/MBA Project/dataset/Parking_Transactions.csv\n"
     ]
    }
   ],
   "source": [
    "directory_name = \"E:/MBA Project/dataset/\"  # file path variable\n",
    "file_name = \"Parking_Transactions.csv\" # file name variable\n",
    "file_path = directory_name + file_name  # concatenating file path and file name to generate full file path\n",
    "print(file_path) # print"
   ]
  },
  {
   "cell_type": "markdown",
   "id": "d7709fd3-971f-4857-b2ac-70fc6b3e8541",
   "metadata": {},
   "source": [
    "### Data Ingestion"
   ]
  },
  {
   "cell_type": "code",
   "execution_count": 17,
   "id": "61c453e2-449d-45c3-9258-90df112e74b3",
   "metadata": {},
   "outputs": [
    {
     "name": "stdout",
     "output_type": "stream",
     "text": [
      "<class 'pandas.core.frame.DataFrame'>\n"
     ]
    }
   ],
   "source": [
    "df = pd.read_csv(file_path)  # reading csv file for the given path into a dataframe variable called df\n",
    "print(type(df))"
   ]
  },
  {
   "cell_type": "markdown",
   "id": "551d1f97-53cf-4b9e-8997-2bbcfaf7df14",
   "metadata": {},
   "source": [
    "### Exploratory Data Analysis"
   ]
  },
  {
   "cell_type": "code",
   "execution_count": 18,
   "id": "714115ce-23bb-462c-a830-92ed0ff57774",
   "metadata": {},
   "outputs": [
    {
     "name": "stdout",
     "output_type": "stream",
     "text": [
      "Shape: (658686, 10)\n",
      "Data Types:\n",
      " ID                  int64\n",
      "Source             object\n",
      "Start Time         object\n",
      "End Time           object\n",
      "Amount            float64\n",
      "Kiosk ID          float64\n",
      "App Zone ID       float64\n",
      "Payment Method     object\n",
      "Location Group     object\n",
      "Last Updated       object\n",
      "dtype: object\n"
     ]
    }
   ],
   "source": [
    "# Data Overview\n",
    "print(\"Shape:\", df.shape)\n",
    "print(\"Data Types:\\n\", df.dtypes)"
   ]
  },
  {
   "cell_type": "code",
   "execution_count": 19,
   "id": "5ef7b4c3-9a34-4548-bba7-6006c6b73c92",
   "metadata": {},
   "outputs": [
    {
     "data": {
      "text/html": [
       "<div>\n",
       "<style scoped>\n",
       "    .dataframe tbody tr th:only-of-type {\n",
       "        vertical-align: middle;\n",
       "    }\n",
       "\n",
       "    .dataframe tbody tr th {\n",
       "        vertical-align: top;\n",
       "    }\n",
       "\n",
       "    .dataframe thead th {\n",
       "        text-align: right;\n",
       "    }\n",
       "</style>\n",
       "<table border=\"1\" class=\"dataframe\">\n",
       "  <thead>\n",
       "    <tr style=\"text-align: right;\">\n",
       "      <th></th>\n",
       "      <th>ID</th>\n",
       "      <th>Source</th>\n",
       "      <th>Start Time</th>\n",
       "      <th>End Time</th>\n",
       "      <th>Amount</th>\n",
       "      <th>Kiosk ID</th>\n",
       "      <th>App Zone ID</th>\n",
       "      <th>Payment Method</th>\n",
       "      <th>Location Group</th>\n",
       "      <th>Last Updated</th>\n",
       "    </tr>\n",
       "  </thead>\n",
       "  <tbody>\n",
       "    <tr>\n",
       "      <th>0</th>\n",
       "      <td>91886070</td>\n",
       "      <td>Parking Meters</td>\n",
       "      <td>3/16/2023 20:19</td>\n",
       "      <td>3/16/2023 23:58</td>\n",
       "      <td>NaN</td>\n",
       "      <td>10001040.0</td>\n",
       "      <td>NaN</td>\n",
       "      <td>CARD</td>\n",
       "      <td>Level 2</td>\n",
       "      <td>4/30/2023 9:26</td>\n",
       "    </tr>\n",
       "    <tr>\n",
       "      <th>1</th>\n",
       "      <td>91886073</td>\n",
       "      <td>Parking Meters</td>\n",
       "      <td>3/16/2023 20:19</td>\n",
       "      <td>3/16/2023 22:34</td>\n",
       "      <td>NaN</td>\n",
       "      <td>10000632.0</td>\n",
       "      <td>NaN</td>\n",
       "      <td>CARD</td>\n",
       "      <td>Level 2</td>\n",
       "      <td>4/30/2023 9:26</td>\n",
       "    </tr>\n",
       "    <tr>\n",
       "      <th>2</th>\n",
       "      <td>91886074</td>\n",
       "      <td>Parking Meters</td>\n",
       "      <td>3/16/2023 20:20</td>\n",
       "      <td>3/16/2023 23:58</td>\n",
       "      <td>NaN</td>\n",
       "      <td>24002477.0</td>\n",
       "      <td>NaN</td>\n",
       "      <td>CARD</td>\n",
       "      <td>Level 1</td>\n",
       "      <td>4/30/2023 9:26</td>\n",
       "    </tr>\n",
       "    <tr>\n",
       "      <th>3</th>\n",
       "      <td>91886075</td>\n",
       "      <td>Parking Meters</td>\n",
       "      <td>3/16/2023 20:19</td>\n",
       "      <td>3/16/2023 22:34</td>\n",
       "      <td>NaN</td>\n",
       "      <td>10000402.0</td>\n",
       "      <td>NaN</td>\n",
       "      <td>CARD</td>\n",
       "      <td>Level 2</td>\n",
       "      <td>4/30/2023 9:26</td>\n",
       "    </tr>\n",
       "    <tr>\n",
       "      <th>4</th>\n",
       "      <td>491450182</td>\n",
       "      <td>Passport - app</td>\n",
       "      <td>9/9/2023 18:41</td>\n",
       "      <td>9/9/2023 20:11</td>\n",
       "      <td>NaN</td>\n",
       "      <td>NaN</td>\n",
       "      <td>39744.0</td>\n",
       "      <td>App - Wallet</td>\n",
       "      <td>Level 1</td>\n",
       "      <td>10/31/2023 9:19</td>\n",
       "    </tr>\n",
       "  </tbody>\n",
       "</table>\n",
       "</div>"
      ],
      "text/plain": [
       "          ID          Source       Start Time         End Time  Amount  \\\n",
       "0   91886070  Parking Meters  3/16/2023 20:19  3/16/2023 23:58     NaN   \n",
       "1   91886073  Parking Meters  3/16/2023 20:19  3/16/2023 22:34     NaN   \n",
       "2   91886074  Parking Meters  3/16/2023 20:20  3/16/2023 23:58     NaN   \n",
       "3   91886075  Parking Meters  3/16/2023 20:19  3/16/2023 22:34     NaN   \n",
       "4  491450182  Passport - app   9/9/2023 18:41   9/9/2023 20:11     NaN   \n",
       "\n",
       "     Kiosk ID  App Zone ID Payment Method Location Group     Last Updated  \n",
       "0  10001040.0          NaN           CARD        Level 2   4/30/2023 9:26  \n",
       "1  10000632.0          NaN           CARD        Level 2   4/30/2023 9:26  \n",
       "2  24002477.0          NaN           CARD        Level 1   4/30/2023 9:26  \n",
       "3  10000402.0          NaN           CARD        Level 2   4/30/2023 9:26  \n",
       "4         NaN      39744.0   App - Wallet        Level 1  10/31/2023 9:19  "
      ]
     },
     "execution_count": 19,
     "metadata": {},
     "output_type": "execute_result"
    }
   ],
   "source": [
    "# print Sample Data\n",
    "df.head()"
   ]
  },
  {
   "cell_type": "code",
   "execution_count": 20,
   "id": "0d35fe3e-1888-4007-a5af-38141b1673a5",
   "metadata": {},
   "outputs": [
    {
     "name": "stdout",
     "output_type": "stream",
     "text": [
      "\n",
      "Summary Statistics for numeric columns:\n"
     ]
    },
    {
     "data": {
      "text/html": [
       "<div>\n",
       "<style scoped>\n",
       "    .dataframe tbody tr th:only-of-type {\n",
       "        vertical-align: middle;\n",
       "    }\n",
       "\n",
       "    .dataframe tbody tr th {\n",
       "        vertical-align: top;\n",
       "    }\n",
       "\n",
       "    .dataframe thead th {\n",
       "        text-align: right;\n",
       "    }\n",
       "</style>\n",
       "<table border=\"1\" class=\"dataframe\">\n",
       "  <thead>\n",
       "    <tr style=\"text-align: right;\">\n",
       "      <th></th>\n",
       "      <th>ID</th>\n",
       "      <th>Amount</th>\n",
       "      <th>Kiosk ID</th>\n",
       "      <th>App Zone ID</th>\n",
       "    </tr>\n",
       "  </thead>\n",
       "  <tbody>\n",
       "    <tr>\n",
       "      <th>count</th>\n",
       "      <td>6.586860e+05</td>\n",
       "      <td>658454.000000</td>\n",
       "      <td>2.318750e+05</td>\n",
       "      <td>426811.000000</td>\n",
       "    </tr>\n",
       "    <tr>\n",
       "      <th>mean</th>\n",
       "      <td>3.386006e+08</td>\n",
       "      <td>4.900178</td>\n",
       "      <td>2.359751e+07</td>\n",
       "      <td>39405.287087</td>\n",
       "    </tr>\n",
       "    <tr>\n",
       "      <th>std</th>\n",
       "      <td>1.840932e+08</td>\n",
       "      <td>4.770313</td>\n",
       "      <td>1.983773e+07</td>\n",
       "      <td>1132.339034</td>\n",
       "    </tr>\n",
       "    <tr>\n",
       "      <th>min</th>\n",
       "      <td>7.895860e+07</td>\n",
       "      <td>0.000000</td>\n",
       "      <td>1.000010e+07</td>\n",
       "      <td>101.000000</td>\n",
       "    </tr>\n",
       "    <tr>\n",
       "      <th>25%</th>\n",
       "      <td>9.201985e+07</td>\n",
       "      <td>2.250000</td>\n",
       "      <td>1.000066e+07</td>\n",
       "      <td>39191.000000</td>\n",
       "    </tr>\n",
       "    <tr>\n",
       "      <th>50%</th>\n",
       "      <td>4.386015e+08</td>\n",
       "      <td>3.300000</td>\n",
       "      <td>2.000098e+07</td>\n",
       "      <td>39306.000000</td>\n",
       "    </tr>\n",
       "    <tr>\n",
       "      <th>75%</th>\n",
       "      <td>4.845260e+08</td>\n",
       "      <td>5.500000</td>\n",
       "      <td>2.600260e+07</td>\n",
       "      <td>39630.000000</td>\n",
       "    </tr>\n",
       "    <tr>\n",
       "      <th>max</th>\n",
       "      <td>6.089531e+08</td>\n",
       "      <td>47.820000</td>\n",
       "      <td>9.100190e+07</td>\n",
       "      <td>400001.000000</td>\n",
       "    </tr>\n",
       "  </tbody>\n",
       "</table>\n",
       "</div>"
      ],
      "text/plain": [
       "                 ID         Amount      Kiosk ID    App Zone ID\n",
       "count  6.586860e+05  658454.000000  2.318750e+05  426811.000000\n",
       "mean   3.386006e+08       4.900178  2.359751e+07   39405.287087\n",
       "std    1.840932e+08       4.770313  1.983773e+07    1132.339034\n",
       "min    7.895860e+07       0.000000  1.000010e+07     101.000000\n",
       "25%    9.201985e+07       2.250000  1.000066e+07   39191.000000\n",
       "50%    4.386015e+08       3.300000  2.000098e+07   39306.000000\n",
       "75%    4.845260e+08       5.500000  2.600260e+07   39630.000000\n",
       "max    6.089531e+08      47.820000  9.100190e+07  400001.000000"
      ]
     },
     "execution_count": 20,
     "metadata": {},
     "output_type": "execute_result"
    }
   ],
   "source": [
    "# Summary Statistics\n",
    "print(\"\\nSummary Statistics for numeric columns:\")\n",
    "(df.describe())"
   ]
  },
  {
   "cell_type": "code",
   "execution_count": 21,
   "id": "4edfab8b-0a31-430c-aed9-185e82e8c39f",
   "metadata": {},
   "outputs": [
    {
     "name": "stdout",
     "output_type": "stream",
     "text": [
      "\n",
      "Summary Statistics for categorical columns:\n"
     ]
    },
    {
     "data": {
      "text/html": [
       "<div>\n",
       "<style scoped>\n",
       "    .dataframe tbody tr th:only-of-type {\n",
       "        vertical-align: middle;\n",
       "    }\n",
       "\n",
       "    .dataframe tbody tr th {\n",
       "        vertical-align: top;\n",
       "    }\n",
       "\n",
       "    .dataframe thead th {\n",
       "        text-align: right;\n",
       "    }\n",
       "</style>\n",
       "<table border=\"1\" class=\"dataframe\">\n",
       "  <thead>\n",
       "    <tr style=\"text-align: right;\">\n",
       "      <th></th>\n",
       "      <th>Source</th>\n",
       "      <th>Start Time</th>\n",
       "      <th>End Time</th>\n",
       "      <th>Payment Method</th>\n",
       "      <th>Location Group</th>\n",
       "      <th>Last Updated</th>\n",
       "    </tr>\n",
       "  </thead>\n",
       "  <tbody>\n",
       "    <tr>\n",
       "      <th>count</th>\n",
       "      <td>658686</td>\n",
       "      <td>658686</td>\n",
       "      <td>658686</td>\n",
       "      <td>658631</td>\n",
       "      <td>658419</td>\n",
       "      <td>658686</td>\n",
       "    </tr>\n",
       "    <tr>\n",
       "      <th>unique</th>\n",
       "      <td>3</td>\n",
       "      <td>141487</td>\n",
       "      <td>137431</td>\n",
       "      <td>8</td>\n",
       "      <td>7</td>\n",
       "      <td>145</td>\n",
       "    </tr>\n",
       "    <tr>\n",
       "      <th>top</th>\n",
       "      <td>Passport - app</td>\n",
       "      <td>9/16/2023 11:00</td>\n",
       "      <td>7/16/2023 0:00</td>\n",
       "      <td>App - Wallet</td>\n",
       "      <td>Level 2</td>\n",
       "      <td>9/30/2023 9:15</td>\n",
       "    </tr>\n",
       "    <tr>\n",
       "      <th>freq</th>\n",
       "      <td>424909</td>\n",
       "      <td>233</td>\n",
       "      <td>674</td>\n",
       "      <td>415026</td>\n",
       "      <td>331429</td>\n",
       "      <td>65651</td>\n",
       "    </tr>\n",
       "  </tbody>\n",
       "</table>\n",
       "</div>"
      ],
      "text/plain": [
       "                Source       Start Time        End Time Payment Method  \\\n",
       "count           658686           658686          658686         658631   \n",
       "unique               3           141487          137431              8   \n",
       "top     Passport - app  9/16/2023 11:00  7/16/2023 0:00   App - Wallet   \n",
       "freq            424909              233             674         415026   \n",
       "\n",
       "       Location Group    Last Updated  \n",
       "count          658419          658686  \n",
       "unique              7             145  \n",
       "top           Level 2  9/30/2023 9:15  \n",
       "freq           331429           65651  "
      ]
     },
     "execution_count": 21,
     "metadata": {},
     "output_type": "execute_result"
    }
   ],
   "source": [
    "print(\"\\nSummary Statistics for categorical columns:\")\n",
    "df.describe(include=['object'])"
   ]
  },
  {
   "cell_type": "code",
   "execution_count": 22,
   "id": "385c7b4e-06fd-4c94-9f67-45dabaea317a",
   "metadata": {},
   "outputs": [
    {
     "name": "stdout",
     "output_type": "stream",
     "text": [
      "<class 'pandas.core.frame.DataFrame'>\n",
      "RangeIndex: 658686 entries, 0 to 658685\n",
      "Data columns (total 10 columns):\n",
      " #   Column          Non-Null Count   Dtype  \n",
      "---  ------          --------------   -----  \n",
      " 0   ID              658686 non-null  int64  \n",
      " 1   Source          658686 non-null  object \n",
      " 2   Start Time      658686 non-null  object \n",
      " 3   End Time        658686 non-null  object \n",
      " 4   Amount          658454 non-null  float64\n",
      " 5   Kiosk ID        231875 non-null  float64\n",
      " 6   App Zone ID     426811 non-null  float64\n",
      " 7   Payment Method  658631 non-null  object \n",
      " 8   Location Group  658419 non-null  object \n",
      " 9   Last Updated    658686 non-null  object \n",
      "dtypes: float64(3), int64(1), object(6)\n",
      "memory usage: 50.3+ MB\n"
     ]
    }
   ],
   "source": [
    "# Print schema\n",
    "df.info()"
   ]
  },
  {
   "cell_type": "code",
   "execution_count": 23,
   "id": "60606867-f44d-493c-9275-c221a6f35485",
   "metadata": {},
   "outputs": [
    {
     "name": "stdout",
     "output_type": "stream",
     "text": [
      "\n",
      "Missing values per column:\n",
      "ID                     0\n",
      "Source                 0\n",
      "Start Time             0\n",
      "End Time               0\n",
      "Amount               232\n",
      "Kiosk ID          426811\n",
      "App Zone ID       231875\n",
      "Payment Method        55\n",
      "Location Group       267\n",
      "Last Updated           0\n",
      "dtype: int64\n",
      "\n",
      "Duplicate rows count: 239\n"
     ]
    }
   ],
   "source": [
    "# Data Quality Checks\n",
    "print(\"\\nMissing values per column:\")\n",
    "print(df.isnull().sum())\n",
    "\n",
    "print(\"\\nDuplicate rows count:\", df.duplicated().sum())"
   ]
  },
  {
   "cell_type": "code",
   "execution_count": 24,
   "id": "a643ed1c-0648-49ae-b8d8-c2cd8573defb",
   "metadata": {},
   "outputs": [
    {
     "name": "stdout",
     "output_type": "stream",
     "text": [
      "count    658454.000000\n",
      "mean          4.900178\n",
      "std           4.770313\n",
      "min           0.000000\n",
      "25%           2.250000\n",
      "50%           3.300000\n",
      "75%           5.500000\n",
      "max          47.820000\n",
      "Name: Amount, dtype: float64\n"
     ]
    },
    {
     "data": {
      "image/png": "[encoded data removed]",
      "text/plain": [
       "<Figure size 600x400 with 1 Axes>"
      ]
     },
     "metadata": {},
     "output_type": "display_data"
    }
   ],
   "source": [
    "# Univariate Analysis - Learn more about boxplot https://builtin.com/data-science/boxplot\n",
    "\n",
    "print(df['Amount'].describe())\n",
    "# Boxplot of amount\n",
    "plt.figure(figsize=(6,4))\n",
    "sns.boxplot(x=df['Amount'])\n",
    "plt.title('Boxplot of Amount')\n",
    "plt.show()"
   ]
  },
  {
   "cell_type": "code",
   "execution_count": 25,
   "id": "33d09495-8194-42eb-b386-517376b49497",
   "metadata": {},
   "outputs": [
    {
     "name": "stdout",
     "output_type": "stream",
     "text": [
      "IQR:3.25\n",
      "Shape: (56063, 10)\n"
     ]
    },
    {
     "data": {
      "text/html": [
       "<div>\n",
       "<style scoped>\n",
       "    .dataframe tbody tr th:only-of-type {\n",
       "        vertical-align: middle;\n",
       "    }\n",
       "\n",
       "    .dataframe tbody tr th {\n",
       "        vertical-align: top;\n",
       "    }\n",
       "\n",
       "    .dataframe thead th {\n",
       "        text-align: right;\n",
       "    }\n",
       "</style>\n",
       "<table border=\"1\" class=\"dataframe\">\n",
       "  <thead>\n",
       "    <tr style=\"text-align: right;\">\n",
       "      <th></th>\n",
       "      <th>ID</th>\n",
       "      <th>Source</th>\n",
       "      <th>Start Time</th>\n",
       "      <th>End Time</th>\n",
       "      <th>Amount</th>\n",
       "      <th>Kiosk ID</th>\n",
       "      <th>App Zone ID</th>\n",
       "      <th>Payment Method</th>\n",
       "      <th>Location Group</th>\n",
       "      <th>Last Updated</th>\n",
       "    </tr>\n",
       "  </thead>\n",
       "  <tbody>\n",
       "    <tr>\n",
       "      <th>32</th>\n",
       "      <td>91886109</td>\n",
       "      <td>Parking Meters</td>\n",
       "      <td>3/16/2023 20:26</td>\n",
       "      <td>3/16/2023 23:58</td>\n",
       "      <td>16.29</td>\n",
       "      <td>24002415.0</td>\n",
       "      <td>NaN</td>\n",
       "      <td>CARD</td>\n",
       "      <td>Level 1</td>\n",
       "      <td>4/30/2023 9:26</td>\n",
       "    </tr>\n",
       "    <tr>\n",
       "      <th>398</th>\n",
       "      <td>91886971</td>\n",
       "      <td>Parking Meters</td>\n",
       "      <td>3/17/2023 6:06</td>\n",
       "      <td>3/17/2023 12:00</td>\n",
       "      <td>10.75</td>\n",
       "      <td>35001548.0</td>\n",
       "      <td>NaN</td>\n",
       "      <td>CARD</td>\n",
       "      <td>Underground 1</td>\n",
       "      <td>4/30/2023 9:26</td>\n",
       "    </tr>\n",
       "    <tr>\n",
       "      <th>399</th>\n",
       "      <td>91886973</td>\n",
       "      <td>Parking Meters</td>\n",
       "      <td>3/17/2023 6:06</td>\n",
       "      <td>3/17/2023 12:00</td>\n",
       "      <td>10.75</td>\n",
       "      <td>10000122.0</td>\n",
       "      <td>NaN</td>\n",
       "      <td>CARD</td>\n",
       "      <td>Level 2</td>\n",
       "      <td>4/30/2023 9:26</td>\n",
       "    </tr>\n",
       "    <tr>\n",
       "      <th>400</th>\n",
       "      <td>91886982</td>\n",
       "      <td>Parking Meters</td>\n",
       "      <td>3/17/2023 6:09</td>\n",
       "      <td>3/17/2023 12:00</td>\n",
       "      <td>10.75</td>\n",
       "      <td>10000604.0</td>\n",
       "      <td>NaN</td>\n",
       "      <td>CARD</td>\n",
       "      <td>Level 2</td>\n",
       "      <td>4/30/2023 9:26</td>\n",
       "    </tr>\n",
       "    <tr>\n",
       "      <th>403</th>\n",
       "      <td>91887009</td>\n",
       "      <td>Parking Meters</td>\n",
       "      <td>3/17/2023 6:31</td>\n",
       "      <td>3/17/2023 12:00</td>\n",
       "      <td>10.75</td>\n",
       "      <td>10000744.0</td>\n",
       "      <td>NaN</td>\n",
       "      <td>CARD</td>\n",
       "      <td>Level 2</td>\n",
       "      <td>4/30/2023 9:26</td>\n",
       "    </tr>\n",
       "  </tbody>\n",
       "</table>\n",
       "</div>"
      ],
      "text/plain": [
       "           ID          Source       Start Time         End Time  Amount  \\\n",
       "32   91886109  Parking Meters  3/16/2023 20:26  3/16/2023 23:58   16.29   \n",
       "398  91886971  Parking Meters   3/17/2023 6:06  3/17/2023 12:00   10.75   \n",
       "399  91886973  Parking Meters   3/17/2023 6:06  3/17/2023 12:00   10.75   \n",
       "400  91886982  Parking Meters   3/17/2023 6:09  3/17/2023 12:00   10.75   \n",
       "403  91887009  Parking Meters   3/17/2023 6:31  3/17/2023 12:00   10.75   \n",
       "\n",
       "       Kiosk ID  App Zone ID Payment Method Location Group    Last Updated  \n",
       "32   24002415.0          NaN           CARD        Level 1  4/30/2023 9:26  \n",
       "398  35001548.0          NaN           CARD  Underground 1  4/30/2023 9:26  \n",
       "399  10000122.0          NaN           CARD        Level 2  4/30/2023 9:26  \n",
       "400  10000604.0          NaN           CARD        Level 2  4/30/2023 9:26  \n",
       "403  10000744.0          NaN           CARD        Level 2  4/30/2023 9:26  "
      ]
     },
     "execution_count": 25,
     "metadata": {},
     "output_type": "execute_result"
    }
   ],
   "source": [
    "# Outlier detection example for Amount using IQR - learn more about IQR https://www.statisticshowto.com/probability-and-statistics/interquartile-range/\n",
    "Q1 = df['Amount'].quantile(0.25)\n",
    "Q3 = df['Amount'].quantile(0.75)\n",
    "IQR = Q3 - Q1\n",
    "print(f'IQR:{IQR}')\n",
    "outliers_amount = df[(df['Amount'] < (Q1 - 1.5*IQR)) | (df['Amount'] > (Q3 + 1.5*IQR))]\n",
    "print(f'Shape: {outliers_amount.shape}')\n",
    "outliers_amount.head()"
   ]
  },
  {
   "cell_type": "code",
   "execution_count": 26,
   "id": "55036891-bf6f-4fd1-b59a-17e6c32a9a94",
   "metadata": {},
   "outputs": [
    {
     "name": "stdout",
     "output_type": "stream",
     "text": [
      "count    658454.000000\n",
      "mean          4.900178\n",
      "std           4.770313\n",
      "min           0.000000\n",
      "25%           2.250000\n",
      "50%           3.300000\n",
      "75%           5.500000\n",
      "max          47.820000\n",
      "Name: Amount, dtype: float64\n"
     ]
    },
    {
     "data": {
      "image/png": "[encoded data removed]",
      "text/plain": [
       "<Figure size 600x400 with 1 Axes>"
      ]
     },
     "metadata": {},
     "output_type": "display_data"
    },
    {
     "data": {
      "text/plain": [
       "'\\nAs we can see 75% of customers pay 5.5 or less. 4.9 is the average amount any customer pays. \\nWe can confirm that with the distribution below. Two tallest bar are between 0 to 4.\\n'"
      ]
     },
     "execution_count": 26,
     "metadata": {},
     "output_type": "execute_result"
    }
   ],
   "source": [
    "# 4. Distribution of Amount\n",
    "print(df['Amount'].describe())\n",
    "plt.figure(figsize=(6,4))\n",
    "sns.histplot(df['Amount'].dropna(), bins=20, kde=True)\n",
    "plt.title('Distribution of Amount')\n",
    "plt.show()\n",
    "\n",
    "'''\n",
    "As we can see 75% of customers pay 5.5 or less. 4.9 is the average amount any customer pays. \n",
    "We can confirm that with the distribution below. Two tallest bar are between 0 to 4.\n",
    "'''"
   ]
  },
  {
   "cell_type": "code",
   "execution_count": 27,
   "id": "f561c375-1f80-4618-9a5d-e5a0ba75d36c",
   "metadata": {},
   "outputs": [
    {
     "data": {
      "image/png": "[encoded data removed]",
      "text/plain": [
       "<Figure size 800x400 with 1 Axes>"
      ]
     },
     "metadata": {},
     "output_type": "display_data"
    },
    {
     "data": {
      "text/plain": [
       "'\\nfollowing visualization shows mostly customers chooses mobile application to pay parking fee which makes sense.\\nAs mobile app is one of the most convenient and safe ways to pay.\\n'"
      ]
     },
     "execution_count": 27,
     "metadata": {},
     "output_type": "execute_result"
    }
   ],
   "source": [
    "# 5. Countplot of Payment Method\n",
    "plt.figure(figsize=(8,4))\n",
    "sns.countplot(data=df, x='Payment Method')\n",
    "plt.title('Payment Method Counts')\n",
    "plt.xticks(rotation=45)\n",
    "plt.show()\n",
    "\n",
    "'''\n",
    "following visualization shows mostly customers chooses mobile application to pay parking fee which makes sense.\n",
    "As mobile app is one of the most convenient and safe ways to pay.\n",
    "'''"
   ]
  },
  {
   "cell_type": "code",
   "execution_count": 28,
   "id": "de4a8be0-e2dd-4361-8285-5f0a501f8150",
   "metadata": {},
   "outputs": [
    {
     "name": "stdout",
     "output_type": "stream",
     "text": [
      "55\n"
     ]
    },
    {
     "data": {
      "text/html": [
       "<div>\n",
       "<style scoped>\n",
       "    .dataframe tbody tr th:only-of-type {\n",
       "        vertical-align: middle;\n",
       "    }\n",
       "\n",
       "    .dataframe tbody tr th {\n",
       "        vertical-align: top;\n",
       "    }\n",
       "\n",
       "    .dataframe thead th {\n",
       "        text-align: right;\n",
       "    }\n",
       "</style>\n",
       "<table border=\"1\" class=\"dataframe\">\n",
       "  <thead>\n",
       "    <tr style=\"text-align: right;\">\n",
       "      <th></th>\n",
       "      <th>ID</th>\n",
       "      <th>Source</th>\n",
       "      <th>Start Time</th>\n",
       "      <th>End Time</th>\n",
       "      <th>Amount</th>\n",
       "      <th>Kiosk ID</th>\n",
       "      <th>App Zone ID</th>\n",
       "      <th>Payment Method</th>\n",
       "      <th>Location Group</th>\n",
       "      <th>Last Updated</th>\n",
       "      <th>payment_type</th>\n",
       "    </tr>\n",
       "  </thead>\n",
       "  <tbody>\n",
       "    <tr>\n",
       "      <th>0</th>\n",
       "      <td>91886070</td>\n",
       "      <td>Parking Meters</td>\n",
       "      <td>3/16/2023 20:19</td>\n",
       "      <td>3/16/2023 23:58</td>\n",
       "      <td>NaN</td>\n",
       "      <td>10001040.0</td>\n",
       "      <td>NaN</td>\n",
       "      <td>CARD</td>\n",
       "      <td>Level 2</td>\n",
       "      <td>4/30/2023 9:26</td>\n",
       "      <td>CREDIT/DEBIT</td>\n",
       "    </tr>\n",
       "    <tr>\n",
       "      <th>1</th>\n",
       "      <td>91886073</td>\n",
       "      <td>Parking Meters</td>\n",
       "      <td>3/16/2023 20:19</td>\n",
       "      <td>3/16/2023 22:34</td>\n",
       "      <td>NaN</td>\n",
       "      <td>10000632.0</td>\n",
       "      <td>NaN</td>\n",
       "      <td>CARD</td>\n",
       "      <td>Level 2</td>\n",
       "      <td>4/30/2023 9:26</td>\n",
       "      <td>CREDIT/DEBIT</td>\n",
       "    </tr>\n",
       "    <tr>\n",
       "      <th>2</th>\n",
       "      <td>91886074</td>\n",
       "      <td>Parking Meters</td>\n",
       "      <td>3/16/2023 20:20</td>\n",
       "      <td>3/16/2023 23:58</td>\n",
       "      <td>NaN</td>\n",
       "      <td>24002477.0</td>\n",
       "      <td>NaN</td>\n",
       "      <td>CARD</td>\n",
       "      <td>Level 1</td>\n",
       "      <td>4/30/2023 9:26</td>\n",
       "      <td>CREDIT/DEBIT</td>\n",
       "    </tr>\n",
       "    <tr>\n",
       "      <th>3</th>\n",
       "      <td>91886075</td>\n",
       "      <td>Parking Meters</td>\n",
       "      <td>3/16/2023 20:19</td>\n",
       "      <td>3/16/2023 22:34</td>\n",
       "      <td>NaN</td>\n",
       "      <td>10000402.0</td>\n",
       "      <td>NaN</td>\n",
       "      <td>CARD</td>\n",
       "      <td>Level 2</td>\n",
       "      <td>4/30/2023 9:26</td>\n",
       "      <td>CREDIT/DEBIT</td>\n",
       "    </tr>\n",
       "    <tr>\n",
       "      <th>4</th>\n",
       "      <td>491450182</td>\n",
       "      <td>Passport - app</td>\n",
       "      <td>9/9/2023 18:41</td>\n",
       "      <td>9/9/2023 20:11</td>\n",
       "      <td>NaN</td>\n",
       "      <td>NaN</td>\n",
       "      <td>39744.0</td>\n",
       "      <td>App - Wallet</td>\n",
       "      <td>Level 1</td>\n",
       "      <td>10/31/2023 9:19</td>\n",
       "      <td>MOBILE APP</td>\n",
       "    </tr>\n",
       "  </tbody>\n",
       "</table>\n",
       "</div>"
      ],
      "text/plain": [
       "          ID          Source       Start Time         End Time  Amount  \\\n",
       "0   91886070  Parking Meters  3/16/2023 20:19  3/16/2023 23:58     NaN   \n",
       "1   91886073  Parking Meters  3/16/2023 20:19  3/16/2023 22:34     NaN   \n",
       "2   91886074  Parking Meters  3/16/2023 20:20  3/16/2023 23:58     NaN   \n",
       "3   91886075  Parking Meters  3/16/2023 20:19  3/16/2023 22:34     NaN   \n",
       "4  491450182  Passport - app   9/9/2023 18:41   9/9/2023 20:11     NaN   \n",
       "\n",
       "     Kiosk ID  App Zone ID Payment Method Location Group     Last Updated  \\\n",
       "0  10001040.0          NaN           CARD        Level 2   4/30/2023 9:26   \n",
       "1  10000632.0          NaN           CARD        Level 2   4/30/2023 9:26   \n",
       "2  24002477.0          NaN           CARD        Level 1   4/30/2023 9:26   \n",
       "3  10000402.0          NaN           CARD        Level 2   4/30/2023 9:26   \n",
       "4         NaN      39744.0   App - Wallet        Level 1  10/31/2023 9:19   \n",
       "\n",
       "   payment_type  \n",
       "0  CREDIT/DEBIT  \n",
       "1  CREDIT/DEBIT  \n",
       "2  CREDIT/DEBIT  \n",
       "3  CREDIT/DEBIT  \n",
       "4    MOBILE APP  "
      ]
     },
     "execution_count": 28,
     "metadata": {},
     "output_type": "execute_result"
    }
   ],
   "source": [
    "# In the next step we are defining category to understand customer behaviour. We need to understand which channel is mostly used by any customer.\n",
    "# Following is a mapping which defines a column called payment_type which can be CREDIT/DEBIT, MOBILE APP, DIGITAL WALLET, CASH\n",
    "mapping = {\n",
    "    'App - Credit Card': 'CREDIT/DEBIT',\n",
    "    'App - Free': 'MOBILE APP',\n",
    "    'App - Validation': 'MOBILE APP',\n",
    "    'App - Wallet': 'MOBILE APP',\n",
    "    'Apple Pay': 'DIGITAL WALLET',\n",
    "    'CARD': 'CREDIT/DEBIT',\n",
    "    'COINS': 'CASH',\n",
    "    'Google Pay': 'DIGITAL WALLET'\n",
    "}\n",
    "\n",
    "df['payment_type'] = df['Payment Method'].map(mapping).fillna(df['Payment Method'])\n",
    "print(df['Payment Method'].isnull().sum())\n",
    "df.head()"
   ]
  },
  {
   "cell_type": "code",
   "execution_count": 29,
   "id": "c726edc6-3a6f-40d3-b8f1-29410fec0781",
   "metadata": {},
   "outputs": [
    {
     "data": {
      "image/png": "[encoded data removed]",
      "text/plain": [
       "<Figure size 800x400 with 1 Axes>"
      ]
     },
     "metadata": {},
     "output_type": "display_data"
    },
    {
     "data": {
      "text/plain": [
       "'\\nWe can clearly see mobile app dominates any other payment methods. People are not preferring cash, it is difficult to carry cash and use machine. \\n'"
      ]
     },
     "execution_count": 29,
     "metadata": {},
     "output_type": "execute_result"
    }
   ],
   "source": [
    "# 6. Countplot of Payment type\n",
    "plt.figure(figsize=(8,4))\n",
    "sns.countplot(data=df, x='payment_type')\n",
    "plt.title('Payment Type Counts')\n",
    "plt.xticks(rotation=45)\n",
    "plt.show()\n",
    "\n",
    "'''\n",
    "We can clearly see mobile app dominates any other payment methods. People are not preferring cash, it is difficult to carry cash and use machine. \n",
    "'''"
   ]
  },
  {
   "cell_type": "code",
   "execution_count": 30,
   "id": "85a7c841-ba5e-4908-9d45-fefb1928bac1",
   "metadata": {},
   "outputs": [
    {
     "data": {
      "image/png": "[encoded data removed]",
      "text/plain": [
       "<Figure size 800x400 with 1 Axes>"
      ]
     },
     "metadata": {},
     "output_type": "display_data"
    }
   ],
   "source": [
    "# 6. Countplot of Source\n",
    "plt.figure(figsize=(8,4))\n",
    "sns.countplot(data=df, x='Source')\n",
    "plt.title('Source Counts')\n",
    "plt.xticks(rotation=45)\n",
    "plt.show()"
   ]
  },
  {
   "cell_type": "code",
   "execution_count": 31,
   "id": "7dfe0310-cf8a-4168-a1ae-da2da6b1f749",
   "metadata": {},
   "outputs": [
    {
     "data": {
      "image/png": "[encoded data removed]",
      "text/plain": [
       "<Figure size 800x400 with 1 Axes>"
      ]
     },
     "metadata": {},
     "output_type": "display_data"
    },
    {
     "data": {
      "text/plain": [
       "'\\nLevel 2 is the favorite place and Ground level is one of the least favorite place which is a great observation. \\nAs a data professional we need further analysis to undertsand why it is happening. \\n'"
      ]
     },
     "execution_count": 31,
     "metadata": {},
     "output_type": "execute_result"
    }
   ],
   "source": [
    "# 7. Countplot of Location Group\n",
    "plt.figure(figsize=(8,4))\n",
    "sns.countplot(data=df, x='Location Group')\n",
    "plt.title('Location Group Counts')\n",
    "plt.xticks(rotation=45)\n",
    "plt.show()\n",
    "\n",
    "'''\n",
    "Level 2 is the favorite place and Ground level is one of the least favorite place which is a great observation. \n",
    "As a data professional we need further analysis to undertsand why it is happening. \n",
    "'''"
   ]
  },
  {
   "cell_type": "code",
   "execution_count": 32,
   "id": "e061db38-e629-4c95-add9-61c26cdb070b",
   "metadata": {},
   "outputs": [
    {
     "name": "stdout",
     "output_type": "stream",
     "text": [
      "\n",
      "Duration statistics:\n",
      "count    658686.000000\n",
      "mean        125.462278\n",
      "std         107.664266\n",
      "min           0.000000\n",
      "25%          60.000000\n",
      "50%          90.000000\n",
      "75%         150.000000\n",
      "max        2389.000000\n",
      "Name: Duration_minutes, dtype: float64\n"
     ]
    },
    {
     "data": {
      "image/png": "[encoded data removed]",
      "text/plain": [
       "<Figure size 600x400 with 1 Axes>"
      ]
     },
     "metadata": {},
     "output_type": "display_data"
    }
   ],
   "source": [
    "# Calculate Duration (if End Time & Start Time exist)\n",
    "# Convert datetime columns to pandas datetime\n",
    "df['Start Time'] = pd.to_datetime(df['Start Time'], errors='coerce')\n",
    "df['End Time'] = pd.to_datetime(df['End Time'], errors='coerce')\n",
    "df['Last Updated'] = pd.to_datetime(df['Last Updated'], errors='coerce')\n",
    "\n",
    "df['Duration_minutes'] = (df['End Time'] - df['Start Time']).dt.total_seconds() / 60\n",
    "print(\"\\nDuration statistics:\")\n",
    "print(df['Duration_minutes'].describe())\n",
    "\n",
    "plt.figure(figsize=(6,4))\n",
    "sns.histplot(df['Duration_minutes'].dropna(), bins=20, kde=True)\n",
    "plt.title('Distribution of Duration (minutes)')\n",
    "plt.show()"
   ]
  },
  {
   "cell_type": "code",
   "execution_count": null,
   "id": "d2ddb002-0455-4506-bd6c-6e24c78cad1d",
   "metadata": {},
   "outputs": [],
   "source": []
  },
  {
   "cell_type": "code",
   "execution_count": 33,
   "id": "c80819d6-7498-407a-ae10-699ca57d3b08",
   "metadata": {},
   "outputs": [
    {
     "name": "stdout",
     "output_type": "stream",
     "text": [
      "count    658686.000000\n",
      "mean        125.462278\n",
      "std         107.664266\n",
      "min           0.000000\n",
      "25%          60.000000\n",
      "50%          90.000000\n",
      "75%         150.000000\n",
      "max        2389.000000\n",
      "Name: Duration_minutes, dtype: float64\n"
     ]
    },
    {
     "data": {
      "image/png": "[encoded data removed]",
      "text/plain": [
       "<Figure size 600x400 with 1 Axes>"
      ]
     },
     "metadata": {},
     "output_type": "display_data"
    }
   ],
   "source": [
    "\n",
    "print(df['Duration_minutes'].describe())\n",
    "# Boxplot of Duration_minutes\n",
    "plt.figure(figsize=(6,4))\n",
    "sns.boxplot(x=df['Duration_minutes'])\n",
    "plt.title('Boxplot of Duration_minutes')\n",
    "plt.show()\n",
    "\n",
    "# We can see their are many outliers. 75% of the people are staying for 150 minutes. \n",
    "# These outliers can affect our analysis. Practially it is possible, if you see the maximum minute, it is 2389 minutes which is around 2 days.\n",
    "# Some of passengers may have kept their vehicle for 2 days at the airport.\n",
    "# So if you see, outliers are not always a bad thing, sometime it gives you a new perspective to understand users needs."
   ]
  },
  {
   "cell_type": "code",
   "execution_count": 224,
   "id": "9d333ade-7a6d-4708-9aeb-4acba2935f40",
   "metadata": {},
   "outputs": [
    {
     "name": "stdout",
     "output_type": "stream",
     "text": [
      "\n",
      "Records with missing Start or End Time:\n",
      " Empty DataFrame\n",
      "Columns: [ID, Source, Start Time, End Time, Amount, Kiosk ID, App Zone ID, Payment Method, Location Group, Last Updated, payment_type, Duration_minutes]\n",
      "Index: []\n"
     ]
    }
   ],
   "source": [
    "# 11. Check for records with missing or inconsistent times\n",
    "missing_times = df[df['Start Time'].isna() | df['End Time'].isna()]\n",
    "print(\"\\nRecords with missing Start or End Time:\\n\", missing_times)"
   ]
  },
  {
   "cell_type": "code",
   "execution_count": 225,
   "id": "433ce725-c16f-4aab-9507-e7183e9184fb",
   "metadata": {},
   "outputs": [
    {
     "data": {
      "image/png": "[encoded data removed]",
      "text/plain": [
       "<Figure size 1000x400 with 1 Axes>"
      ]
     },
     "metadata": {},
     "output_type": "display_data"
    }
   ],
   "source": [
    "# 12. Time series trend - records per day based on Start Time\n",
    "df['Start Date'] = df['Start Time'].dt.date\n",
    "daily_counts = df.groupby('Start Date').size()\n",
    "\n",
    "plt.figure(figsize=(10,4))\n",
    "daily_counts.plot(kind='line', marker='o')\n",
    "plt.title('Number of Records per Day')\n",
    "plt.xlabel('Date')\n",
    "plt.ylabel('Count')\n",
    "plt.grid(True)\n",
    "plt.show()"
   ]
  },
  {
   "cell_type": "markdown",
   "id": "d2e164bb-417c-4abc-bc23-76422d049960",
   "metadata": {},
   "source": [
    "### Data Cleansing"
   ]
  },
  {
   "cell_type": "markdown",
   "id": "55fd2971-6d10-44ac-b8ba-6b5290bbb21c",
   "metadata": {},
   "source": [
    "#### Deduplication\n",
    "```Duplicate data can significantly affect your data analysis by introducing bias, inaccuracy, and misleading results. Here's a brief overview:```\n",
    "\n",
    "1. Inflated Metrics: Duplicates can artificially increase counts, totals, or averages. \n",
    "    Example: Repeated sales entries can inflate revenue.\n",
    "\n",
    "2. Distorted Distributions: Summary statistics like mean, median, standard deviation may be skewed.\n",
    "    Example: May give a false impression of customer behavior or trends.\n",
    "\n",
    "3. Biased Insights: If duplicates favor a specific category, group-based analysis (e.g., by region or method) becomes biased.\n",
    "\n",
    "```In this section we will focus on:```\n",
    "1. Identifying duplicate data\n",
    "2. Deduplication process\n"
   ]
  },
  {
   "cell_type": "code",
   "execution_count": 226,
   "id": "0c35b4d3-bc49-42e6-a250-70e115f20050",
   "metadata": {},
   "outputs": [
    {
     "name": "stdout",
     "output_type": "stream",
     "text": [
      "239\n"
     ]
    }
   ],
   "source": [
    "total_duplicates = df.duplicated().sum()\n",
    "print(total_duplicates) # this variables shows total duplicate records"
   ]
  },
  {
   "cell_type": "code",
   "execution_count": 227,
   "id": "7ef22ccd-16c4-4c0f-b314-64e892076a85",
   "metadata": {},
   "outputs": [
    {
     "data": {
      "text/plain": [
       "(658447, 13)"
      ]
     },
     "execution_count": 227,
     "metadata": {},
     "output_type": "execute_result"
    }
   ],
   "source": [
    "# Deduplication - removing duplicate rows\n",
    "df_dedup = df.drop_duplicates()\n",
    "df_dedup.shape"
   ]
  },
  {
   "cell_type": "code",
   "execution_count": 228,
   "id": "d349e2af-d7a6-40da-9fcd-a065a3bbdaea",
   "metadata": {},
   "outputs": [
    {
     "name": "stdout",
     "output_type": "stream",
     "text": [
      "239\n"
     ]
    }
   ],
   "source": [
    "# validate dedup dataset\n",
    "diff = df.shape[0] - df_dedup.shape[0]\n",
    "print(diff)"
   ]
  },
  {
   "cell_type": "code",
   "execution_count": 229,
   "id": "e9fbf5f3-fef8-413f-8244-a332bcdc677d",
   "metadata": {},
   "outputs": [
    {
     "name": "stdout",
     "output_type": "stream",
     "text": [
      "<class 'pandas.core.frame.DataFrame'>\n",
      "Index: 658447 entries, 0 to 658685\n",
      "Data columns (total 13 columns):\n",
      " #   Column            Non-Null Count   Dtype         \n",
      "---  ------            --------------   -----         \n",
      " 0   ID                658447 non-null  int64         \n",
      " 1   Source            658447 non-null  object        \n",
      " 2   Start Time        658447 non-null  datetime64[ns]\n",
      " 3   End Time          658447 non-null  datetime64[ns]\n",
      " 4   Amount            658251 non-null  float64       \n",
      " 5   Kiosk ID          231646 non-null  float64       \n",
      " 6   App Zone ID       426801 non-null  float64       \n",
      " 7   Payment Method    658402 non-null  object        \n",
      " 8   Location Group    658180 non-null  object        \n",
      " 9   Last Updated      658447 non-null  datetime64[ns]\n",
      " 10  payment_type      658402 non-null  object        \n",
      " 11  Duration_minutes  658447 non-null  float64       \n",
      " 12  Start Date        658447 non-null  object        \n",
      "dtypes: datetime64[ns](3), float64(4), int64(1), object(5)\n",
      "memory usage: 70.3+ MB\n"
     ]
    }
   ],
   "source": [
    "df_dedup.info()"
   ]
  },
  {
   "cell_type": "markdown",
   "id": "d3938b35-2dfd-437b-90d9-532328746744",
   "metadata": {},
   "source": [
    "#### Missing Value Handling\n",
    "```Missing values can negatively impact your analysis by reducing accuracy, completeness, and reliability of the results. Here's a brief explanation:```\n",
    "\n",
    "1. Incomplete Insights: Missing values can lead to gaps in understanding trends or behavior.\n",
    "    For example, missing Amount values may affect revenue calculations.\n",
    "\n",
    "2. Biased Analysis: If missing data is not random (e.g., mostly from one group), it can bias your results.\n",
    "    This may lead to incorrect conclusions about certain categories or time periods.\n",
    "\n",
    "```In this step we will focus on:```\n",
    "\n",
    "1. Identifying missing records for the required columns e.g. Amount, Payment Method\n",
    "2. treating missing values using measure of central e.g. mean, mode, median"
   ]
  },
  {
   "cell_type": "code",
   "execution_count": 230,
   "id": "63972577-227f-45ca-9b6a-2aaa42a4dbfc",
   "metadata": {},
   "outputs": [
    {
     "data": {
      "text/plain": [
       "Index(['ID', 'Source', 'Start Time', 'End Time', 'Amount', 'Kiosk ID',\n",
       "       'App Zone ID', 'Payment Method', 'Location Group', 'Last Updated',\n",
       "       'payment_type', 'Duration_minutes', 'Start Date'],\n",
       "      dtype='object')"
      ]
     },
     "execution_count": 230,
     "metadata": {},
     "output_type": "execute_result"
    }
   ],
   "source": [
    "df_dedup.columns"
   ]
  },
  {
   "cell_type": "code",
   "execution_count": 231,
   "id": "64ee7451-80a8-4ab7-af16-2ab31ee920f0",
   "metadata": {},
   "outputs": [
    {
     "data": {
      "text/plain": [
       "ID                       0\n",
       "Source                   0\n",
       "Start Time               0\n",
       "End Time                 0\n",
       "Amount                 196\n",
       "Kiosk ID            426801\n",
       "App Zone ID         231646\n",
       "Payment Method          45\n",
       "Location Group         267\n",
       "Last Updated             0\n",
       "payment_type            45\n",
       "Duration_minutes         0\n",
       "Start Date               0\n",
       "dtype: int64"
      ]
     },
     "execution_count": 231,
     "metadata": {},
     "output_type": "execute_result"
    }
   ],
   "source": [
    "# Missing value stats\n",
    "df_dedup.isnull().sum()"
   ]
  },
  {
   "cell_type": "code",
   "execution_count": 232,
   "id": "5a513d0b-7ea7-4b1b-b787-98ce49f2166e",
   "metadata": {},
   "outputs": [
    {
     "name": "stdout",
     "output_type": "stream",
     "text": [
      "3.3\n",
      "App - Wallet\n",
      "MOBILE APP\n"
     ]
    }
   ],
   "source": [
    "amount_median = df_dedup['Amount'].median()\n",
    "mode_payment_method = df_dedup['Payment Method'].mode()[0]\n",
    "mode_payment_type = df_dedup['payment_type'].mode()[0]\n",
    "\n",
    "print(amount_median)\n",
    "print(mode_payment_method)\n",
    "print(mode_payment_type)"
   ]
  },
  {
   "cell_type": "code",
   "execution_count": 233,
   "id": "754161e3-d836-4226-92d2-1205bd3f4cc4",
   "metadata": {},
   "outputs": [],
   "source": [
    "df_fixed = df_dedup.fillna({'Amount': amount_median, 'Payment Method': mode_payment_method, 'payment_type': mode_payment_type})"
   ]
  },
  {
   "cell_type": "code",
   "execution_count": 234,
   "id": "6829c8b3-490b-4e92-8f6e-920e71749534",
   "metadata": {},
   "outputs": [
    {
     "data": {
      "text/plain": [
       "array(['Level 2', 'Level 1', 'Level 4', 'Level 3', 'Underground 1',\n",
       "       'Ground Level', nan, 'Unknown Location'], dtype=object)"
      ]
     },
     "execution_count": 234,
     "metadata": {},
     "output_type": "execute_result"
    }
   ],
   "source": [
    "# check distinct parking location\n",
    "df_fixed['Location Group'].unique()"
   ]
  },
  {
   "cell_type": "code",
   "execution_count": 235,
   "id": "0760d3e5-2eb3-4c6f-9969-99bc6510399e",
   "metadata": {},
   "outputs": [],
   "source": [
    "# As we can see there are two invalid type of parking location, \"Unknown Location\" and nan. both are invalid values.\n",
    "# We must consider both as missing values.\n",
    "df_fixed['Location Group'] = df_fixed['Location Group'].replace('Unknown Location', pd.NA)\n",
    "df_fixed['Location Group'] = df_fixed['Location Group'].fillna(df_dedup['Location Group'].mode()[0])\n"
   ]
  },
  {
   "cell_type": "code",
   "execution_count": 236,
   "id": "3b570b03-1f46-4c9f-ab02-6f3bd0446e49",
   "metadata": {},
   "outputs": [
    {
     "data": {
      "text/plain": [
       "ID                       0\n",
       "Source                   0\n",
       "Start Time               0\n",
       "End Time                 0\n",
       "Amount                   0\n",
       "Kiosk ID            426801\n",
       "App Zone ID         231646\n",
       "Payment Method           0\n",
       "Location Group           0\n",
       "Last Updated             0\n",
       "payment_type             0\n",
       "Duration_minutes         0\n",
       "Start Date               0\n",
       "dtype: int64"
      ]
     },
     "execution_count": 236,
     "metadata": {},
     "output_type": "execute_result"
    }
   ],
   "source": [
    "df_fixed.isnull().sum()"
   ]
  },
  {
   "cell_type": "code",
   "execution_count": 237,
   "id": "e5607855-4bf6-408e-9a56-4e3e737cb353",
   "metadata": {},
   "outputs": [
    {
     "data": {
      "text/plain": [
       "array(['Level 2', 'Level 1', 'Level 4', 'Level 3', 'Underground 1',\n",
       "       'Ground Level'], dtype=object)"
      ]
     },
     "execution_count": 237,
     "metadata": {},
     "output_type": "execute_result"
    }
   ],
   "source": [
    "# check distinct parking location after fixing\n",
    "df_fixed['Location Group'].unique()"
   ]
  },
  {
   "cell_type": "markdown",
   "id": "017476d8-360c-42b2-b678-87ceb0a4fdd5",
   "metadata": {},
   "source": [
    "#### Rename or Drop Irrelevant Columns\n",
    "```Clean column names and remove unused or redundant fields```"
   ]
  },
  {
   "cell_type": "code",
   "execution_count": 238,
   "id": "25cddefe-1c5c-46cf-9399-6221cc548886",
   "metadata": {},
   "outputs": [],
   "source": [
    "# ID, App Zone Id and Kiosk Id are not useful for our analysis, so we can drop these columns\n",
    "df_fixed = df_fixed.drop([\"ID\", \"App Zone ID\", \"Kiosk ID\", \"Last Updated\", \"Start Date\"], axis=1)"
   ]
  },
  {
   "cell_type": "code",
   "execution_count": 239,
   "id": "c1cbc57c-05a1-45e8-bb53-4cc01f458b5f",
   "metadata": {},
   "outputs": [
    {
     "name": "stdout",
     "output_type": "stream",
     "text": [
      "<class 'pandas.core.frame.DataFrame'>\n",
      "Index: 658447 entries, 0 to 658685\n",
      "Data columns (total 8 columns):\n",
      " #   Column            Non-Null Count   Dtype         \n",
      "---  ------            --------------   -----         \n",
      " 0   Source            658447 non-null  object        \n",
      " 1   Start Time        658447 non-null  datetime64[ns]\n",
      " 2   End Time          658447 non-null  datetime64[ns]\n",
      " 3   Amount            658447 non-null  float64       \n",
      " 4   Payment Method    658447 non-null  object        \n",
      " 5   Location Group    658447 non-null  object        \n",
      " 6   payment_type      658447 non-null  object        \n",
      " 7   Duration_minutes  658447 non-null  float64       \n",
      "dtypes: datetime64[ns](2), float64(2), object(4)\n",
      "memory usage: 45.2+ MB\n"
     ]
    }
   ],
   "source": [
    "df_fixed.info()"
   ]
  },
  {
   "cell_type": "code",
   "execution_count": 240,
   "id": "f570ebc3-1e68-4ab7-9ce8-1da1dcebb902",
   "metadata": {},
   "outputs": [
    {
     "data": {
      "text/plain": [
       "Source              0\n",
       "Start Time          0\n",
       "End Time            0\n",
       "Amount              0\n",
       "Payment Method      0\n",
       "Location Group      0\n",
       "payment_type        0\n",
       "Duration_minutes    0\n",
       "dtype: int64"
      ]
     },
     "execution_count": 240,
     "metadata": {},
     "output_type": "execute_result"
    }
   ],
   "source": [
    "df_fixed.isnull().sum()"
   ]
  },
  {
   "cell_type": "code",
   "execution_count": 241,
   "id": "ed864f57-b26a-4152-a091-74e0b68e6f48",
   "metadata": {},
   "outputs": [],
   "source": [
    "# df_fixed has all the missing value fixed"
   ]
  },
  {
   "cell_type": "markdown",
   "id": "dd441285-a48c-4d65-a646-7e3f8738d293",
   "metadata": {},
   "source": [
    "#### Fix Data Types\n",
    "```Fixing column data types helps in performing required arithmetic or string operations. It ensure columns are in the correct format (e.g., dates, integers, floats).```"
   ]
  },
  {
   "cell_type": "code",
   "execution_count": 242,
   "id": "1b914036-a155-4dc2-9edc-985598a2f4e8",
   "metadata": {},
   "outputs": [
    {
     "data": {
      "text/plain": [
       "Source                      object\n",
       "Start Time          datetime64[ns]\n",
       "End Time            datetime64[ns]\n",
       "Amount                     float64\n",
       "Payment Method              object\n",
       "Location Group              object\n",
       "payment_type                object\n",
       "Duration_minutes           float64\n",
       "dtype: object"
      ]
     },
     "execution_count": 242,
     "metadata": {},
     "output_type": "execute_result"
    }
   ],
   "source": [
    "df_fixed.dtypes"
   ]
  },
  {
   "cell_type": "code",
   "execution_count": 243,
   "id": "8541ca94-683d-49bd-b311-0f2cd3e91773",
   "metadata": {},
   "outputs": [],
   "source": [
    "df_fixed[\"Source\"] = df_fixed[\"Source\"].astype(\"string\")\n",
    "df_fixed[\"Payment Method\"] = df_fixed[\"Payment Method\"].astype(\"string\")\n",
    "df_fixed[\"Location Group\"] = df_fixed[\"Location Group\"].astype(\"string\")"
   ]
  },
  {
   "cell_type": "code",
   "execution_count": 244,
   "id": "628d9167-883c-4758-ab5a-e91e4d6a3e0a",
   "metadata": {},
   "outputs": [
    {
     "data": {
      "text/html": [
       "<div>\n",
       "<style scoped>\n",
       "    .dataframe tbody tr th:only-of-type {\n",
       "        vertical-align: middle;\n",
       "    }\n",
       "\n",
       "    .dataframe tbody tr th {\n",
       "        vertical-align: top;\n",
       "    }\n",
       "\n",
       "    .dataframe thead th {\n",
       "        text-align: right;\n",
       "    }\n",
       "</style>\n",
       "<table border=\"1\" class=\"dataframe\">\n",
       "  <thead>\n",
       "    <tr style=\"text-align: right;\">\n",
       "      <th></th>\n",
       "      <th>Source</th>\n",
       "      <th>Start Time</th>\n",
       "      <th>End Time</th>\n",
       "      <th>Amount</th>\n",
       "      <th>Payment Method</th>\n",
       "      <th>Location Group</th>\n",
       "      <th>payment_type</th>\n",
       "      <th>Duration_minutes</th>\n",
       "    </tr>\n",
       "  </thead>\n",
       "  <tbody>\n",
       "    <tr>\n",
       "      <th>0</th>\n",
       "      <td>Parking Meters</td>\n",
       "      <td>2023-03-16 20:19:00</td>\n",
       "      <td>2023-03-16 23:58:00</td>\n",
       "      <td>3.3</td>\n",
       "      <td>CARD</td>\n",
       "      <td>Level 2</td>\n",
       "      <td>CREDIT/DEBIT</td>\n",
       "      <td>219.0</td>\n",
       "    </tr>\n",
       "    <tr>\n",
       "      <th>1</th>\n",
       "      <td>Parking Meters</td>\n",
       "      <td>2023-03-16 20:19:00</td>\n",
       "      <td>2023-03-16 22:34:00</td>\n",
       "      <td>3.3</td>\n",
       "      <td>CARD</td>\n",
       "      <td>Level 2</td>\n",
       "      <td>CREDIT/DEBIT</td>\n",
       "      <td>135.0</td>\n",
       "    </tr>\n",
       "    <tr>\n",
       "      <th>2</th>\n",
       "      <td>Parking Meters</td>\n",
       "      <td>2023-03-16 20:20:00</td>\n",
       "      <td>2023-03-16 23:58:00</td>\n",
       "      <td>3.3</td>\n",
       "      <td>CARD</td>\n",
       "      <td>Level 1</td>\n",
       "      <td>CREDIT/DEBIT</td>\n",
       "      <td>218.0</td>\n",
       "    </tr>\n",
       "    <tr>\n",
       "      <th>3</th>\n",
       "      <td>Parking Meters</td>\n",
       "      <td>2023-03-16 20:19:00</td>\n",
       "      <td>2023-03-16 22:34:00</td>\n",
       "      <td>3.3</td>\n",
       "      <td>CARD</td>\n",
       "      <td>Level 2</td>\n",
       "      <td>CREDIT/DEBIT</td>\n",
       "      <td>135.0</td>\n",
       "    </tr>\n",
       "    <tr>\n",
       "      <th>4</th>\n",
       "      <td>Passport - app</td>\n",
       "      <td>2023-09-09 18:41:00</td>\n",
       "      <td>2023-09-09 20:11:00</td>\n",
       "      <td>3.3</td>\n",
       "      <td>App - Wallet</td>\n",
       "      <td>Level 1</td>\n",
       "      <td>MOBILE APP</td>\n",
       "      <td>90.0</td>\n",
       "    </tr>\n",
       "  </tbody>\n",
       "</table>\n",
       "</div>"
      ],
      "text/plain": [
       "           Source          Start Time            End Time  Amount  \\\n",
       "0  Parking Meters 2023-03-16 20:19:00 2023-03-16 23:58:00     3.3   \n",
       "1  Parking Meters 2023-03-16 20:19:00 2023-03-16 22:34:00     3.3   \n",
       "2  Parking Meters 2023-03-16 20:20:00 2023-03-16 23:58:00     3.3   \n",
       "3  Parking Meters 2023-03-16 20:19:00 2023-03-16 22:34:00     3.3   \n",
       "4  Passport - app 2023-09-09 18:41:00 2023-09-09 20:11:00     3.3   \n",
       "\n",
       "  Payment Method Location Group  payment_type  Duration_minutes  \n",
       "0           CARD        Level 2  CREDIT/DEBIT             219.0  \n",
       "1           CARD        Level 2  CREDIT/DEBIT             135.0  \n",
       "2           CARD        Level 1  CREDIT/DEBIT             218.0  \n",
       "3           CARD        Level 2  CREDIT/DEBIT             135.0  \n",
       "4   App - Wallet        Level 1    MOBILE APP              90.0  "
      ]
     },
     "execution_count": 244,
     "metadata": {},
     "output_type": "execute_result"
    }
   ],
   "source": [
    "df_fixed.head()"
   ]
  },
  {
   "cell_type": "code",
   "execution_count": 245,
   "id": "99f72c17-5904-46f0-8ae4-ff7b8d1b3a17",
   "metadata": {},
   "outputs": [
    {
     "data": {
      "text/plain": [
       "Source              string[python]\n",
       "Start Time          datetime64[ns]\n",
       "End Time            datetime64[ns]\n",
       "Amount                     float64\n",
       "Payment Method      string[python]\n",
       "Location Group      string[python]\n",
       "payment_type                object\n",
       "Duration_minutes           float64\n",
       "dtype: object"
      ]
     },
     "execution_count": 245,
     "metadata": {},
     "output_type": "execute_result"
    }
   ],
   "source": [
    "df_fixed.dtypes"
   ]
  },
  {
   "cell_type": "markdown",
   "id": "59a79869-9fa2-48a3-ab9f-6ba19c04430c",
   "metadata": {},
   "source": [
    "#### Standardize Formatting and Column Names\n",
    "```Standardize columns name, here we are replacing spaces from the column name with _ and changing name to lowercase```"
   ]
  },
  {
   "cell_type": "code",
   "execution_count": 246,
   "id": "44a9ac4b-bb72-4124-8541-7fad7f9ffda8",
   "metadata": {},
   "outputs": [],
   "source": [
    "df_fixed = df_fixed.rename(columns={\n",
    "    'Source': 'source',\n",
    "    'Start Time': 'start_time',\n",
    "    'End Time': 'end_time',\n",
    "    'Location Group': 'location_group',\n",
    "    'Amount': 'amount',\n",
    "    'Payment Method': 'payment_method',\n",
    "    'Location Group': 'location_group',\n",
    "    'Duration_minutes': 'duration_minutes'\n",
    "})"
   ]
  },
  {
   "cell_type": "code",
   "execution_count": 247,
   "id": "c4b33684-8f1f-46d0-aed5-117b3549e601",
   "metadata": {},
   "outputs": [
    {
     "data": {
      "text/html": [
       "<div>\n",
       "<style scoped>\n",
       "    .dataframe tbody tr th:only-of-type {\n",
       "        vertical-align: middle;\n",
       "    }\n",
       "\n",
       "    .dataframe tbody tr th {\n",
       "        vertical-align: top;\n",
       "    }\n",
       "\n",
       "    .dataframe thead th {\n",
       "        text-align: right;\n",
       "    }\n",
       "</style>\n",
       "<table border=\"1\" class=\"dataframe\">\n",
       "  <thead>\n",
       "    <tr style=\"text-align: right;\">\n",
       "      <th></th>\n",
       "      <th>source</th>\n",
       "      <th>start_time</th>\n",
       "      <th>end_time</th>\n",
       "      <th>amount</th>\n",
       "      <th>payment_method</th>\n",
       "      <th>location_group</th>\n",
       "      <th>payment_type</th>\n",
       "      <th>duration_minutes</th>\n",
       "    </tr>\n",
       "  </thead>\n",
       "  <tbody>\n",
       "    <tr>\n",
       "      <th>0</th>\n",
       "      <td>Parking Meters</td>\n",
       "      <td>2023-03-16 20:19:00</td>\n",
       "      <td>2023-03-16 23:58:00</td>\n",
       "      <td>3.3</td>\n",
       "      <td>CARD</td>\n",
       "      <td>Level 2</td>\n",
       "      <td>CREDIT/DEBIT</td>\n",
       "      <td>219.0</td>\n",
       "    </tr>\n",
       "    <tr>\n",
       "      <th>1</th>\n",
       "      <td>Parking Meters</td>\n",
       "      <td>2023-03-16 20:19:00</td>\n",
       "      <td>2023-03-16 22:34:00</td>\n",
       "      <td>3.3</td>\n",
       "      <td>CARD</td>\n",
       "      <td>Level 2</td>\n",
       "      <td>CREDIT/DEBIT</td>\n",
       "      <td>135.0</td>\n",
       "    </tr>\n",
       "    <tr>\n",
       "      <th>2</th>\n",
       "      <td>Parking Meters</td>\n",
       "      <td>2023-03-16 20:20:00</td>\n",
       "      <td>2023-03-16 23:58:00</td>\n",
       "      <td>3.3</td>\n",
       "      <td>CARD</td>\n",
       "      <td>Level 1</td>\n",
       "      <td>CREDIT/DEBIT</td>\n",
       "      <td>218.0</td>\n",
       "    </tr>\n",
       "    <tr>\n",
       "      <th>3</th>\n",
       "      <td>Parking Meters</td>\n",
       "      <td>2023-03-16 20:19:00</td>\n",
       "      <td>2023-03-16 22:34:00</td>\n",
       "      <td>3.3</td>\n",
       "      <td>CARD</td>\n",
       "      <td>Level 2</td>\n",
       "      <td>CREDIT/DEBIT</td>\n",
       "      <td>135.0</td>\n",
       "    </tr>\n",
       "    <tr>\n",
       "      <th>4</th>\n",
       "      <td>Passport - app</td>\n",
       "      <td>2023-09-09 18:41:00</td>\n",
       "      <td>2023-09-09 20:11:00</td>\n",
       "      <td>3.3</td>\n",
       "      <td>App - Wallet</td>\n",
       "      <td>Level 1</td>\n",
       "      <td>MOBILE APP</td>\n",
       "      <td>90.0</td>\n",
       "    </tr>\n",
       "  </tbody>\n",
       "</table>\n",
       "</div>"
      ],
      "text/plain": [
       "           source          start_time            end_time  amount  \\\n",
       "0  Parking Meters 2023-03-16 20:19:00 2023-03-16 23:58:00     3.3   \n",
       "1  Parking Meters 2023-03-16 20:19:00 2023-03-16 22:34:00     3.3   \n",
       "2  Parking Meters 2023-03-16 20:20:00 2023-03-16 23:58:00     3.3   \n",
       "3  Parking Meters 2023-03-16 20:19:00 2023-03-16 22:34:00     3.3   \n",
       "4  Passport - app 2023-09-09 18:41:00 2023-09-09 20:11:00     3.3   \n",
       "\n",
       "  payment_method location_group  payment_type  duration_minutes  \n",
       "0           CARD        Level 2  CREDIT/DEBIT             219.0  \n",
       "1           CARD        Level 2  CREDIT/DEBIT             135.0  \n",
       "2           CARD        Level 1  CREDIT/DEBIT             218.0  \n",
       "3           CARD        Level 2  CREDIT/DEBIT             135.0  \n",
       "4   App - Wallet        Level 1    MOBILE APP              90.0  "
      ]
     },
     "execution_count": 247,
     "metadata": {},
     "output_type": "execute_result"
    }
   ],
   "source": [
    "df_fixed.head() # This is our final clean data with no duplicates and missing values"
   ]
  },
  {
   "cell_type": "code",
   "execution_count": 248,
   "id": "f740d77a-25fa-422f-8a04-a668395ce530",
   "metadata": {},
   "outputs": [
    {
     "name": "stdout",
     "output_type": "stream",
     "text": [
      "<class 'pandas.core.frame.DataFrame'>\n",
      "Index: 658447 entries, 0 to 658685\n",
      "Data columns (total 8 columns):\n",
      " #   Column            Non-Null Count   Dtype         \n",
      "---  ------            --------------   -----         \n",
      " 0   source            658447 non-null  string        \n",
      " 1   start_time        658447 non-null  datetime64[ns]\n",
      " 2   end_time          658447 non-null  datetime64[ns]\n",
      " 3   amount            658447 non-null  float64       \n",
      " 4   payment_method    658447 non-null  string        \n",
      " 5   location_group    658447 non-null  string        \n",
      " 6   payment_type      658447 non-null  object        \n",
      " 7   duration_minutes  658447 non-null  float64       \n",
      "dtypes: datetime64[ns](2), float64(2), object(1), string(3)\n",
      "memory usage: 45.2+ MB\n"
     ]
    }
   ],
   "source": [
    "df_fixed.info()"
   ]
  },
  {
   "cell_type": "markdown",
   "id": "764f9438-76ad-4759-b557-ca9805d1d258",
   "metadata": {},
   "source": [
    "#### Validate Data Ranges and Logic\n",
    "```Check if values fall within expected ranges or if dates/times are logically consistent.```"
   ]
  },
  {
   "cell_type": "code",
   "execution_count": 249,
   "id": "bb285715-17aa-42c1-9bb5-de10eb7213e7",
   "metadata": {},
   "outputs": [
    {
     "name": "stdout",
     "output_type": "stream",
     "text": [
      "Records with invalid durations:\n",
      "Empty DataFrame\n",
      "Columns: [source, start_time, end_time, amount, payment_method, location_group, payment_type, duration_minutes]\n",
      "Index: []\n"
     ]
    }
   ],
   "source": [
    "# Check for negative or zero durations\n",
    "invalid_durations = df_fixed[df_fixed['duration_minutes'] < 0]\n",
    "print(f\"Records with invalid durations:\\n{invalid_durations}\")\n"
   ]
  },
  {
   "cell_type": "code",
   "execution_count": 250,
   "id": "064c857b-31e9-42a5-aa65-1e422eab298e",
   "metadata": {},
   "outputs": [
    {
     "name": "stdout",
     "output_type": "stream",
     "text": [
      "Records with negative Amount:\n",
      "Empty DataFrame\n",
      "Columns: [source, start_time, end_time, amount, payment_method, location_group, payment_type, duration_minutes]\n",
      "Index: []\n"
     ]
    }
   ],
   "source": [
    "# check for invalid amounts\n",
    "invalid_amounts = df_fixed[df_fixed['amount'] < 0]\n",
    "print(f\"Records with negative Amount:\\n{invalid_amounts}\")"
   ]
  },
  {
   "cell_type": "code",
   "execution_count": 251,
   "id": "b881cb47-2014-44d1-8374-309c5465a620",
   "metadata": {},
   "outputs": [
    {
     "name": "stdout",
     "output_type": "stream",
     "text": [
      "Records where Start Time is after End Time:\n",
      "Empty DataFrame\n",
      "Columns: [source, start_time, end_time, amount, payment_method, location_group, payment_type, duration_minutes]\n",
      "Index: []\n"
     ]
    }
   ],
   "source": [
    "# Check for invalid start time\n",
    "invalid_times = df_fixed[df_fixed['start_time'] > df_fixed['end_time']]\n",
    "print(f\"Records where Start Time is after End Time:\\n{invalid_times}\")"
   ]
  },
  {
   "cell_type": "markdown",
   "id": "89f00c8c-7447-42e9-803c-fb0c90d21b42",
   "metadata": {},
   "source": []
  },
  {
   "cell_type": "markdown",
   "id": "2a72ea96-2bb9-4a41-899c-cc0df60b05d9",
   "metadata": {},
   "source": [
    "### Write Cleansed Data to SQL Server for further processing"
   ]
  },
  {
   "cell_type": "code",
   "execution_count": 252,
   "id": "056a3208-c72b-4bf5-8e4e-c30deb91f4b2",
   "metadata": {},
   "outputs": [
    {
     "data": {
      "text/html": [
       "<div>\n",
       "<style scoped>\n",
       "    .dataframe tbody tr th:only-of-type {\n",
       "        vertical-align: middle;\n",
       "    }\n",
       "\n",
       "    .dataframe tbody tr th {\n",
       "        vertical-align: top;\n",
       "    }\n",
       "\n",
       "    .dataframe thead th {\n",
       "        text-align: right;\n",
       "    }\n",
       "</style>\n",
       "<table border=\"1\" class=\"dataframe\">\n",
       "  <thead>\n",
       "    <tr style=\"text-align: right;\">\n",
       "      <th></th>\n",
       "      <th>source</th>\n",
       "      <th>start_time</th>\n",
       "      <th>end_time</th>\n",
       "      <th>amount</th>\n",
       "      <th>payment_method</th>\n",
       "      <th>location_group</th>\n",
       "      <th>payment_type</th>\n",
       "      <th>duration_minutes</th>\n",
       "    </tr>\n",
       "  </thead>\n",
       "  <tbody>\n",
       "    <tr>\n",
       "      <th>0</th>\n",
       "      <td>Parking Meters</td>\n",
       "      <td>2023-03-16 20:19:00</td>\n",
       "      <td>2023-03-16 23:58:00</td>\n",
       "      <td>3.3</td>\n",
       "      <td>CARD</td>\n",
       "      <td>Level 2</td>\n",
       "      <td>CREDIT/DEBIT</td>\n",
       "      <td>219.0</td>\n",
       "    </tr>\n",
       "    <tr>\n",
       "      <th>1</th>\n",
       "      <td>Parking Meters</td>\n",
       "      <td>2023-03-16 20:19:00</td>\n",
       "      <td>2023-03-16 22:34:00</td>\n",
       "      <td>3.3</td>\n",
       "      <td>CARD</td>\n",
       "      <td>Level 2</td>\n",
       "      <td>CREDIT/DEBIT</td>\n",
       "      <td>135.0</td>\n",
       "    </tr>\n",
       "    <tr>\n",
       "      <th>2</th>\n",
       "      <td>Parking Meters</td>\n",
       "      <td>2023-03-16 20:20:00</td>\n",
       "      <td>2023-03-16 23:58:00</td>\n",
       "      <td>3.3</td>\n",
       "      <td>CARD</td>\n",
       "      <td>Level 1</td>\n",
       "      <td>CREDIT/DEBIT</td>\n",
       "      <td>218.0</td>\n",
       "    </tr>\n",
       "    <tr>\n",
       "      <th>3</th>\n",
       "      <td>Parking Meters</td>\n",
       "      <td>2023-03-16 20:19:00</td>\n",
       "      <td>2023-03-16 22:34:00</td>\n",
       "      <td>3.3</td>\n",
       "      <td>CARD</td>\n",
       "      <td>Level 2</td>\n",
       "      <td>CREDIT/DEBIT</td>\n",
       "      <td>135.0</td>\n",
       "    </tr>\n",
       "    <tr>\n",
       "      <th>4</th>\n",
       "      <td>Passport - app</td>\n",
       "      <td>2023-09-09 18:41:00</td>\n",
       "      <td>2023-09-09 20:11:00</td>\n",
       "      <td>3.3</td>\n",
       "      <td>App - Wallet</td>\n",
       "      <td>Level 1</td>\n",
       "      <td>MOBILE APP</td>\n",
       "      <td>90.0</td>\n",
       "    </tr>\n",
       "  </tbody>\n",
       "</table>\n",
       "</div>"
      ],
      "text/plain": [
       "           source          start_time            end_time  amount  \\\n",
       "0  Parking Meters 2023-03-16 20:19:00 2023-03-16 23:58:00     3.3   \n",
       "1  Parking Meters 2023-03-16 20:19:00 2023-03-16 22:34:00     3.3   \n",
       "2  Parking Meters 2023-03-16 20:20:00 2023-03-16 23:58:00     3.3   \n",
       "3  Parking Meters 2023-03-16 20:19:00 2023-03-16 22:34:00     3.3   \n",
       "4  Passport - app 2023-09-09 18:41:00 2023-09-09 20:11:00     3.3   \n",
       "\n",
       "  payment_method location_group  payment_type  duration_minutes  \n",
       "0           CARD        Level 2  CREDIT/DEBIT             219.0  \n",
       "1           CARD        Level 2  CREDIT/DEBIT             135.0  \n",
       "2           CARD        Level 1  CREDIT/DEBIT             218.0  \n",
       "3           CARD        Level 2  CREDIT/DEBIT             135.0  \n",
       "4   App - Wallet        Level 1    MOBILE APP              90.0  "
      ]
     },
     "execution_count": 252,
     "metadata": {},
     "output_type": "execute_result"
    }
   ],
   "source": [
    "df_fixed.head()"
   ]
  },
  {
   "cell_type": "markdown",
   "id": "084d8e87-36bc-4b7c-baf0-6a1f40fc5e61",
   "metadata": {},
   "source": []
  },
  {
   "cell_type": "code",
   "execution_count": 253,
   "id": "37d2cce9-87f3-479a-ab97-55272087df6f",
   "metadata": {},
   "outputs": [
    {
     "data": {
      "text/plain": [
       "41"
      ]
     },
     "execution_count": 253,
     "metadata": {},
     "output_type": "execute_result"
    }
   ],
   "source": [
    "# Create connection string\n",
    "server = 'localhost'          # e.g., 'localhost\\SQLEXPRESS'\n",
    "database = 'DB_AirportParking'      # e.g., 'ParkingDB'\n",
    "username = 'YOUR_USERNAME'           # optional if using Windows Auth\n",
    "password = 'YOUR_PASSWORD'           # optional if using Windows Auth\n",
    "\n",
    "# Use Windows Authentication (trusted connection)\n",
    "conn_str = f\"mssql+pyodbc://{server}/{database}?driver=ODBC+Driver+17+for+SQL+Server&trusted_connection=yes\"\n",
    "\n",
    "# OR use SQL Server Authentication:\n",
    "# conn_str = f\"mssql+pyodbc://{username}:{password}@{server}/{database}?driver=ODBC+Driver+17+for+SQL+Server\"\n",
    "\n",
    "# Create SQLAlchemy engine\n",
    "engine = create_engine(conn_str)\n",
    "\n",
    "# Write to SQL (replace 'your_table_name' with actual table name)\n",
    "df_fixed.to_sql('airport_parking_transactions', con=engine, if_exists='replace', index=False)"
   ]
  },
  {
   "cell_type": "code",
   "execution_count": null,
   "id": "a0482ed5-e7fa-4659-a8ff-50e065d5f52b",
   "metadata": {},
   "outputs": [],
   "source": []
  }
 ],
 "metadata": {
  "kernelspec": {
   "display_name": "Python 3 (ipykernel)",
   "language": "python",
   "name": "python3"
  },
  "language_info": {
   "codemirror_mode": {
    "name": "ipython",
    "version": 3
   },
   "file_extension": ".py",
   "mimetype": "text/x-python",
   "name": "python",
   "nbconvert_exporter": "python",
   "pygments_lexer": "ipython3",
   "version": "3.13.5"
  }
 },
 "nbformat": 4,
 "nbformat_minor": 5
}
