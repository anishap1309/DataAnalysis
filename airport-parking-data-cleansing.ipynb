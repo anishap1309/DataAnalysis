{
 "cells": [
  {
   "cell_type": "markdown",
   "id": "863cace7-8241-4279-a07a-26440af7c213",
   "metadata": {},
   "source": [
    "### Introduction\n",
    "--------------------------------\n",
    "#### Student Name: ```Anisha Pandey```\n",
    "#### Roll No: ```2314509477``` \n",
    "#### Email: ```anisha.2314509477@mujonline.edu.in```\n",
    "#### Description: ```This notebook cleans raw data which loaded from csv.```"
   ]
  },
  {
   "cell_type": "code",
   "execution_count": null,
   "id": "1a839b6d-d6cf-4b85-8f65-e2aaaae812b9",
   "metadata": {},
   "outputs": [],
   "source": []
  },
  {
   "cell_type": "markdown",
   "id": "f5d57d34-1018-4eeb-9439-eafc3087d78f",
   "metadata": {},
   "source": [
    "#### Importing python libraries"
   ]
  },
  {
   "cell_type": "code",
   "execution_count": 246,
   "id": "d8fb55b1-cc6b-4ab1-bd27-f5ca0c5d91ee",
   "metadata": {},
   "outputs": [],
   "source": [
    "\n",
    "import pandas as pd\n",
    "import numpy as np\n",
    "from sqlalchemy import create_engine"
   ]
  },
  {
   "cell_type": "markdown",
   "id": "ae150e97-480c-4970-a11c-2cacb19c03b4",
   "metadata": {},
   "source": [
    "#### Define file path variables"
   ]
  },
  {
   "cell_type": "code",
   "execution_count": 196,
   "id": "24da04db-30d1-477f-acde-e1b5eb131350",
   "metadata": {},
   "outputs": [
    {
     "name": "stdout",
     "output_type": "stream",
     "text": [
      "E:/MBA Project/dataset/Parking_Transactions.csv\n"
     ]
    }
   ],
   "source": [
    "directory_name = \"E:/MBA Project/dataset/\"  # file path variable\n",
    "file_name = \"Parking_Transactions.csv\" # file name variable\n",
    "file_path = directory_name + file_name  # concatenating file path and file name to generate full file path\n",
    "print(file_path) # print"
   ]
  },
  {
   "cell_type": "markdown",
   "id": "d7709fd3-971f-4857-b2ac-70fc6b3e8541",
   "metadata": {},
   "source": [
    "#### Data Ingestion"
   ]
  },
  {
   "cell_type": "code",
   "execution_count": 197,
   "id": "61c453e2-449d-45c3-9258-90df112e74b3",
   "metadata": {},
   "outputs": [
    {
     "name": "stdout",
     "output_type": "stream",
     "text": [
      "<class 'pandas.core.frame.DataFrame'>\n"
     ]
    }
   ],
   "source": [
    "df = pd.read_csv(file_path)  # reading csv file for the given path into a dataframe variable called df\n",
    "print(type(df))"
   ]
  },
  {
   "cell_type": "code",
   "execution_count": 198,
   "id": "5ef7b4c3-9a34-4548-bba7-6006c6b73c92",
   "metadata": {},
   "outputs": [
    {
     "data": {
      "text/html": [
       "<div>\n",
       "<style scoped>\n",
       "    .dataframe tbody tr th:only-of-type {\n",
       "        vertical-align: middle;\n",
       "    }\n",
       "\n",
       "    .dataframe tbody tr th {\n",
       "        vertical-align: top;\n",
       "    }\n",
       "\n",
       "    .dataframe thead th {\n",
       "        text-align: right;\n",
       "    }\n",
       "</style>\n",
       "<table border=\"1\" class=\"dataframe\">\n",
       "  <thead>\n",
       "    <tr style=\"text-align: right;\">\n",
       "      <th></th>\n",
       "      <th>ID</th>\n",
       "      <th>Source</th>\n",
       "      <th>Start Time</th>\n",
       "      <th>End Time</th>\n",
       "      <th>Amount</th>\n",
       "      <th>Kiosk ID</th>\n",
       "      <th>App Zone ID</th>\n",
       "      <th>Payment Method</th>\n",
       "      <th>Location Group</th>\n",
       "      <th>Last Updated</th>\n",
       "    </tr>\n",
       "  </thead>\n",
       "  <tbody>\n",
       "    <tr>\n",
       "      <th>0</th>\n",
       "      <td>91886070</td>\n",
       "      <td>Parking Meters</td>\n",
       "      <td>3/16/2023 20:19</td>\n",
       "      <td>3/16/2023 23:58</td>\n",
       "      <td>NaN</td>\n",
       "      <td>10001040.0</td>\n",
       "      <td>NaN</td>\n",
       "      <td>CARD</td>\n",
       "      <td>Level 2</td>\n",
       "      <td>4/30/2023 9:26</td>\n",
       "    </tr>\n",
       "    <tr>\n",
       "      <th>1</th>\n",
       "      <td>91886073</td>\n",
       "      <td>Parking Meters</td>\n",
       "      <td>3/16/2023 20:19</td>\n",
       "      <td>3/16/2023 22:34</td>\n",
       "      <td>NaN</td>\n",
       "      <td>10000632.0</td>\n",
       "      <td>NaN</td>\n",
       "      <td>CARD</td>\n",
       "      <td>Level 2</td>\n",
       "      <td>4/30/2023 9:26</td>\n",
       "    </tr>\n",
       "  </tbody>\n",
       "</table>\n",
       "</div>"
      ],
      "text/plain": [
       "         ID          Source       Start Time         End Time  Amount  \\\n",
       "0  91886070  Parking Meters  3/16/2023 20:19  3/16/2023 23:58     NaN   \n",
       "1  91886073  Parking Meters  3/16/2023 20:19  3/16/2023 22:34     NaN   \n",
       "\n",
       "     Kiosk ID  App Zone ID Payment Method Location Group    Last Updated  \n",
       "0  10001040.0          NaN           CARD        Level 2  4/30/2023 9:26  \n",
       "1  10000632.0          NaN           CARD        Level 2  4/30/2023 9:26  "
      ]
     },
     "execution_count": 198,
     "metadata": {},
     "output_type": "execute_result"
    }
   ],
   "source": [
    "# print top 5 records\n",
    "df.head(2)"
   ]
  },
  {
   "cell_type": "code",
   "execution_count": 199,
   "id": "64dffd58-6a43-49d2-8495-6bcca5ee9a44",
   "metadata": {},
   "outputs": [
    {
     "data": {
      "text/html": [
       "<div>\n",
       "<style scoped>\n",
       "    .dataframe tbody tr th:only-of-type {\n",
       "        vertical-align: middle;\n",
       "    }\n",
       "\n",
       "    .dataframe tbody tr th {\n",
       "        vertical-align: top;\n",
       "    }\n",
       "\n",
       "    .dataframe thead th {\n",
       "        text-align: right;\n",
       "    }\n",
       "</style>\n",
       "<table border=\"1\" class=\"dataframe\">\n",
       "  <thead>\n",
       "    <tr style=\"text-align: right;\">\n",
       "      <th></th>\n",
       "      <th>ID</th>\n",
       "      <th>Source</th>\n",
       "      <th>Start Time</th>\n",
       "      <th>End Time</th>\n",
       "      <th>Amount</th>\n",
       "      <th>Kiosk ID</th>\n",
       "      <th>App Zone ID</th>\n",
       "      <th>Payment Method</th>\n",
       "      <th>Location Group</th>\n",
       "      <th>Last Updated</th>\n",
       "    </tr>\n",
       "  </thead>\n",
       "  <tbody>\n",
       "    <tr>\n",
       "      <th>658681</th>\n",
       "      <td>88430249</td>\n",
       "      <td>Parking Meters</td>\n",
       "      <td>6/2/2022 11:31</td>\n",
       "      <td>6/2/2022 12:31</td>\n",
       "      <td>2.25</td>\n",
       "      <td>10000646.0</td>\n",
       "      <td>NaN</td>\n",
       "      <td>CARD</td>\n",
       "      <td>Level 2</td>\n",
       "      <td>6/9/2023 21:14</td>\n",
       "    </tr>\n",
       "    <tr>\n",
       "      <th>658682</th>\n",
       "      <td>88430253</td>\n",
       "      <td>Parking Meters</td>\n",
       "      <td>6/2/2022 11:31</td>\n",
       "      <td>6/2/2022 13:05</td>\n",
       "      <td>2.25</td>\n",
       "      <td>24002416.0</td>\n",
       "      <td>NaN</td>\n",
       "      <td>CARD</td>\n",
       "      <td>Level 1</td>\n",
       "      <td>6/9/2023 21:14</td>\n",
       "    </tr>\n",
       "    <tr>\n",
       "      <th>658683</th>\n",
       "      <td>88430254</td>\n",
       "      <td>Parking Meters</td>\n",
       "      <td>6/2/2022 11:31</td>\n",
       "      <td>6/2/2022 12:31</td>\n",
       "      <td>2.25</td>\n",
       "      <td>10000425.0</td>\n",
       "      <td>NaN</td>\n",
       "      <td>CARD</td>\n",
       "      <td>Level 2</td>\n",
       "      <td>6/9/2023 21:14</td>\n",
       "    </tr>\n",
       "    <tr>\n",
       "      <th>658684</th>\n",
       "      <td>88430255</td>\n",
       "      <td>Parking Meters</td>\n",
       "      <td>6/2/2022 11:31</td>\n",
       "      <td>6/2/2022 12:31</td>\n",
       "      <td>2.00</td>\n",
       "      <td>19001905.0</td>\n",
       "      <td>NaN</td>\n",
       "      <td>CARD</td>\n",
       "      <td>Ground Level</td>\n",
       "      <td>6/9/2023 21:14</td>\n",
       "    </tr>\n",
       "    <tr>\n",
       "      <th>658685</th>\n",
       "      <td>88430258</td>\n",
       "      <td>Parking Meters</td>\n",
       "      <td>6/2/2022 11:32</td>\n",
       "      <td>6/2/2022 12:32</td>\n",
       "      <td>2.25</td>\n",
       "      <td>28002809.0</td>\n",
       "      <td>NaN</td>\n",
       "      <td>CARD</td>\n",
       "      <td>Level 1</td>\n",
       "      <td>6/9/2023 21:14</td>\n",
       "    </tr>\n",
       "  </tbody>\n",
       "</table>\n",
       "</div>"
      ],
      "text/plain": [
       "              ID          Source      Start Time        End Time  Amount  \\\n",
       "658681  88430249  Parking Meters  6/2/2022 11:31  6/2/2022 12:31    2.25   \n",
       "658682  88430253  Parking Meters  6/2/2022 11:31  6/2/2022 13:05    2.25   \n",
       "658683  88430254  Parking Meters  6/2/2022 11:31  6/2/2022 12:31    2.25   \n",
       "658684  88430255  Parking Meters  6/2/2022 11:31  6/2/2022 12:31    2.00   \n",
       "658685  88430258  Parking Meters  6/2/2022 11:32  6/2/2022 12:32    2.25   \n",
       "\n",
       "          Kiosk ID  App Zone ID Payment Method Location Group    Last Updated  \n",
       "658681  10000646.0          NaN           CARD        Level 2  6/9/2023 21:14  \n",
       "658682  24002416.0          NaN           CARD        Level 1  6/9/2023 21:14  \n",
       "658683  10000425.0          NaN           CARD        Level 2  6/9/2023 21:14  \n",
       "658684  19001905.0          NaN           CARD   Ground Level  6/9/2023 21:14  \n",
       "658685  28002809.0          NaN           CARD        Level 1  6/9/2023 21:14  "
      ]
     },
     "execution_count": 199,
     "metadata": {},
     "output_type": "execute_result"
    }
   ],
   "source": [
    "# print bottom 5 records\n",
    "df.tail()"
   ]
  },
  {
   "cell_type": "code",
   "execution_count": 200,
   "id": "ec2dce29-40b6-4092-b541-5e86200618a3",
   "metadata": {},
   "outputs": [
    {
     "data": {
      "text/plain": [
       "(658686, 10)"
      ]
     },
     "execution_count": 200,
     "metadata": {},
     "output_type": "execute_result"
    }
   ],
   "source": [
    "df.shape"
   ]
  },
  {
   "cell_type": "code",
   "execution_count": 201,
   "id": "385c7b4e-06fd-4c94-9f67-45dabaea317a",
   "metadata": {},
   "outputs": [
    {
     "name": "stdout",
     "output_type": "stream",
     "text": [
      "<class 'pandas.core.frame.DataFrame'>\n",
      "RangeIndex: 658686 entries, 0 to 658685\n",
      "Data columns (total 10 columns):\n",
      " #   Column          Non-Null Count   Dtype  \n",
      "---  ------          --------------   -----  \n",
      " 0   ID              658686 non-null  int64  \n",
      " 1   Source          658686 non-null  object \n",
      " 2   Start Time      658686 non-null  object \n",
      " 3   End Time        658686 non-null  object \n",
      " 4   Amount          658454 non-null  float64\n",
      " 5   Kiosk ID        231875 non-null  float64\n",
      " 6   App Zone ID     426811 non-null  float64\n",
      " 7   Payment Method  658631 non-null  object \n",
      " 8   Location Group  658419 non-null  object \n",
      " 9   Last Updated    658686 non-null  object \n",
      "dtypes: float64(3), int64(1), object(6)\n",
      "memory usage: 50.3+ MB\n"
     ]
    }
   ],
   "source": [
    "# Print schema\n",
    "df.info()"
   ]
  },
  {
   "cell_type": "code",
   "execution_count": 202,
   "id": "60606867-f44d-493c-9275-c221a6f35485",
   "metadata": {},
   "outputs": [
    {
     "data": {
      "text/html": [
       "<div>\n",
       "<style scoped>\n",
       "    .dataframe tbody tr th:only-of-type {\n",
       "        vertical-align: middle;\n",
       "    }\n",
       "\n",
       "    .dataframe tbody tr th {\n",
       "        vertical-align: top;\n",
       "    }\n",
       "\n",
       "    .dataframe thead th {\n",
       "        text-align: right;\n",
       "    }\n",
       "</style>\n",
       "<table border=\"1\" class=\"dataframe\">\n",
       "  <thead>\n",
       "    <tr style=\"text-align: right;\">\n",
       "      <th></th>\n",
       "      <th>ID</th>\n",
       "      <th>Amount</th>\n",
       "      <th>Kiosk ID</th>\n",
       "      <th>App Zone ID</th>\n",
       "    </tr>\n",
       "  </thead>\n",
       "  <tbody>\n",
       "    <tr>\n",
       "      <th>count</th>\n",
       "      <td>6.586860e+05</td>\n",
       "      <td>658454.000000</td>\n",
       "      <td>2.318750e+05</td>\n",
       "      <td>426811.000000</td>\n",
       "    </tr>\n",
       "    <tr>\n",
       "      <th>mean</th>\n",
       "      <td>3.386006e+08</td>\n",
       "      <td>4.900178</td>\n",
       "      <td>2.359751e+07</td>\n",
       "      <td>39405.287087</td>\n",
       "    </tr>\n",
       "    <tr>\n",
       "      <th>std</th>\n",
       "      <td>1.840932e+08</td>\n",
       "      <td>4.770313</td>\n",
       "      <td>1.983773e+07</td>\n",
       "      <td>1132.339034</td>\n",
       "    </tr>\n",
       "    <tr>\n",
       "      <th>min</th>\n",
       "      <td>7.895860e+07</td>\n",
       "      <td>0.000000</td>\n",
       "      <td>1.000010e+07</td>\n",
       "      <td>101.000000</td>\n",
       "    </tr>\n",
       "    <tr>\n",
       "      <th>25%</th>\n",
       "      <td>9.201985e+07</td>\n",
       "      <td>2.250000</td>\n",
       "      <td>1.000066e+07</td>\n",
       "      <td>39191.000000</td>\n",
       "    </tr>\n",
       "    <tr>\n",
       "      <th>50%</th>\n",
       "      <td>4.386015e+08</td>\n",
       "      <td>3.300000</td>\n",
       "      <td>2.000098e+07</td>\n",
       "      <td>39306.000000</td>\n",
       "    </tr>\n",
       "    <tr>\n",
       "      <th>75%</th>\n",
       "      <td>4.845260e+08</td>\n",
       "      <td>5.500000</td>\n",
       "      <td>2.600260e+07</td>\n",
       "      <td>39630.000000</td>\n",
       "    </tr>\n",
       "    <tr>\n",
       "      <th>max</th>\n",
       "      <td>6.089531e+08</td>\n",
       "      <td>47.820000</td>\n",
       "      <td>9.100190e+07</td>\n",
       "      <td>400001.000000</td>\n",
       "    </tr>\n",
       "  </tbody>\n",
       "</table>\n",
       "</div>"
      ],
      "text/plain": [
       "                 ID         Amount      Kiosk ID    App Zone ID\n",
       "count  6.586860e+05  658454.000000  2.318750e+05  426811.000000\n",
       "mean   3.386006e+08       4.900178  2.359751e+07   39405.287087\n",
       "std    1.840932e+08       4.770313  1.983773e+07    1132.339034\n",
       "min    7.895860e+07       0.000000  1.000010e+07     101.000000\n",
       "25%    9.201985e+07       2.250000  1.000066e+07   39191.000000\n",
       "50%    4.386015e+08       3.300000  2.000098e+07   39306.000000\n",
       "75%    4.845260e+08       5.500000  2.600260e+07   39630.000000\n",
       "max    6.089531e+08      47.820000  9.100190e+07  400001.000000"
      ]
     },
     "execution_count": 202,
     "metadata": {},
     "output_type": "execute_result"
    }
   ],
   "source": [
    "df.describe() # desribe the dataframe"
   ]
  },
  {
   "cell_type": "markdown",
   "id": "55fd2971-6d10-44ac-b8ba-6b5290bbb21c",
   "metadata": {},
   "source": [
    "#### Deduplication\n",
    "```Duplicate data can significantly affect your data analysis by introducing bias, inaccuracy, and misleading results. Here's a brief overview:```\n",
    "\n",
    "1. Inflated Metrics: Duplicates can artificially increase counts, totals, or averages. \n",
    "    Example: Repeated sales entries can inflate revenue.\n",
    "\n",
    "2. Distorted Distributions: Summary statistics like mean, median, standard deviation may be skewed.\n",
    "    Example: May give a false impression of customer behavior or trends.\n",
    "\n",
    "3. Biased Insights: If duplicates favor a specific category, group-based analysis (e.g., by region or method) becomes biased.\n",
    "\n",
    "```In this section we will focus on:```\n",
    "1. Identifying duplicate data\n",
    "2. Deduplication process\n"
   ]
  },
  {
   "cell_type": "code",
   "execution_count": 203,
   "id": "0c35b4d3-bc49-42e6-a250-70e115f20050",
   "metadata": {},
   "outputs": [
    {
     "name": "stdout",
     "output_type": "stream",
     "text": [
      "239\n"
     ]
    }
   ],
   "source": [
    "total_duplicates = df.duplicated().sum()\n",
    "print(total_duplicates) # this variables shows total duplicate records"
   ]
  },
  {
   "cell_type": "code",
   "execution_count": 204,
   "id": "7ef22ccd-16c4-4c0f-b314-64e892076a85",
   "metadata": {},
   "outputs": [
    {
     "data": {
      "text/plain": [
       "(658447, 10)"
      ]
     },
     "execution_count": 204,
     "metadata": {},
     "output_type": "execute_result"
    }
   ],
   "source": [
    "# Deduplication - removing duplicate rows\n",
    "df_dedup = df.drop_duplicates()\n",
    "df_dedup.shape"
   ]
  },
  {
   "cell_type": "code",
   "execution_count": 205,
   "id": "d349e2af-d7a6-40da-9fcd-a065a3bbdaea",
   "metadata": {},
   "outputs": [
    {
     "name": "stdout",
     "output_type": "stream",
     "text": [
      "239\n"
     ]
    }
   ],
   "source": [
    "# validate dedup dataset\n",
    "diff = df.shape[0] - df_dedup.shape[0]\n",
    "print(diff)"
   ]
  },
  {
   "cell_type": "code",
   "execution_count": 206,
   "id": "e9fbf5f3-fef8-413f-8244-a332bcdc677d",
   "metadata": {},
   "outputs": [
    {
     "name": "stdout",
     "output_type": "stream",
     "text": [
      "<class 'pandas.core.frame.DataFrame'>\n",
      "Index: 658447 entries, 0 to 658685\n",
      "Data columns (total 10 columns):\n",
      " #   Column          Non-Null Count   Dtype  \n",
      "---  ------          --------------   -----  \n",
      " 0   ID              658447 non-null  int64  \n",
      " 1   Source          658447 non-null  object \n",
      " 2   Start Time      658447 non-null  object \n",
      " 3   End Time        658447 non-null  object \n",
      " 4   Amount          658251 non-null  float64\n",
      " 5   Kiosk ID        231646 non-null  float64\n",
      " 6   App Zone ID     426801 non-null  float64\n",
      " 7   Payment Method  658402 non-null  object \n",
      " 8   Location Group  658180 non-null  object \n",
      " 9   Last Updated    658447 non-null  object \n",
      "dtypes: float64(3), int64(1), object(6)\n",
      "memory usage: 55.3+ MB\n"
     ]
    }
   ],
   "source": [
    "df_dedup.info()"
   ]
  },
  {
   "cell_type": "markdown",
   "id": "d3938b35-2dfd-437b-90d9-532328746744",
   "metadata": {},
   "source": [
    "#### Missing Value Handling\n",
    "```Missing values can negatively impact your analysis by reducing accuracy, completeness, and reliability of the results. Here's a brief explanation:```\n",
    "\n",
    "1. Incomplete Insights: Missing values can lead to gaps in understanding trends or behavior.\n",
    "    For example, missing Amount values may affect revenue calculations.\n",
    "\n",
    "2. Biased Analysis: If missing data is not random (e.g., mostly from one group), it can bias your results.\n",
    "    This may lead to incorrect conclusions about certain categories or time periods.\n",
    "\n",
    "```In this step we will focus on:```\n",
    "\n",
    "1. Identifying missing records for the required columns e.g. Amount, Payment Method\n",
    "2. treating missing values using measure of central e.g. mean, mode, median"
   ]
  },
  {
   "cell_type": "code",
   "execution_count": 207,
   "id": "63972577-227f-45ca-9b6a-2aaa42a4dbfc",
   "metadata": {},
   "outputs": [
    {
     "data": {
      "text/plain": [
       "Index(['ID', 'Source', 'Start Time', 'End Time', 'Amount', 'Kiosk ID',\n",
       "       'App Zone ID', 'Payment Method', 'Location Group', 'Last Updated'],\n",
       "      dtype='object')"
      ]
     },
     "execution_count": 207,
     "metadata": {},
     "output_type": "execute_result"
    }
   ],
   "source": [
    "df_dedup.columns"
   ]
  },
  {
   "cell_type": "code",
   "execution_count": 208,
   "id": "64ee7451-80a8-4ab7-af16-2ab31ee920f0",
   "metadata": {},
   "outputs": [
    {
     "data": {
      "text/plain": [
       "ID                     0\n",
       "Source                 0\n",
       "Start Time             0\n",
       "End Time               0\n",
       "Amount               196\n",
       "Kiosk ID          426801\n",
       "App Zone ID       231646\n",
       "Payment Method        45\n",
       "Location Group       267\n",
       "Last Updated           0\n",
       "dtype: int64"
      ]
     },
     "execution_count": 208,
     "metadata": {},
     "output_type": "execute_result"
    }
   ],
   "source": [
    "# Missing value stats\n",
    "df_dedup.isnull().sum()"
   ]
  },
  {
   "cell_type": "code",
   "execution_count": 209,
   "id": "5a513d0b-7ea7-4b1b-b787-98ce49f2166e",
   "metadata": {},
   "outputs": [
    {
     "name": "stdout",
     "output_type": "stream",
     "text": [
      "3.3\n",
      "App - Wallet\n"
     ]
    }
   ],
   "source": [
    "amount_median = df_dedup['Amount'].median()\n",
    "mode_payment_method = df_dedup['Payment Method'].mode()[0]\n",
    "\n",
    "print(amount_median)\n",
    "print(mode_payment_method)"
   ]
  },
  {
   "cell_type": "code",
   "execution_count": 210,
   "id": "754161e3-d836-4226-92d2-1205bd3f4cc4",
   "metadata": {},
   "outputs": [],
   "source": [
    "df_fixed = df_dedup.fillna({'Amount': amount_median, 'Payment Method': mode_payment_method})"
   ]
  },
  {
   "cell_type": "code",
   "execution_count": 212,
   "id": "6829c8b3-490b-4e92-8f6e-920e71749534",
   "metadata": {},
   "outputs": [
    {
     "data": {
      "text/plain": [
       "array(['Level 2', 'Level 1', 'Level 4', 'Level 3', 'Underground 1',\n",
       "       'Ground Level', nan, 'Unknown Location'], dtype=object)"
      ]
     },
     "execution_count": 212,
     "metadata": {},
     "output_type": "execute_result"
    }
   ],
   "source": [
    "# check distinct parking location\n",
    "df_fixed['Location Group'].unique()"
   ]
  },
  {
   "cell_type": "code",
   "execution_count": 213,
   "id": "0760d3e5-2eb3-4c6f-9969-99bc6510399e",
   "metadata": {},
   "outputs": [],
   "source": [
    "# As we can see there are two invalid type of parking location, \"Unknown Location\" and nan. both are invalid values.\n",
    "# We must consider both as missing values.\n",
    "df_fixed['Location Group'] = df_fixed['Location Group'].replace('Unknown Location', pd.NA)\n",
    "df_fixed['Location Group'] = df_fixed['Location Group'].fillna(df_dedup['Location Group'].mode()[0])\n"
   ]
  },
  {
   "cell_type": "code",
   "execution_count": 214,
   "id": "3b570b03-1f46-4c9f-ab02-6f3bd0446e49",
   "metadata": {},
   "outputs": [
    {
     "data": {
      "text/plain": [
       "ID                     0\n",
       "Source                 0\n",
       "Start Time             0\n",
       "End Time               0\n",
       "Amount                 0\n",
       "Kiosk ID          426801\n",
       "App Zone ID       231646\n",
       "Payment Method         0\n",
       "Location Group         0\n",
       "Last Updated           0\n",
       "dtype: int64"
      ]
     },
     "execution_count": 214,
     "metadata": {},
     "output_type": "execute_result"
    }
   ],
   "source": [
    "df_fixed.isnull().sum()"
   ]
  },
  {
   "cell_type": "code",
   "execution_count": 215,
   "id": "e5607855-4bf6-408e-9a56-4e3e737cb353",
   "metadata": {},
   "outputs": [
    {
     "data": {
      "text/plain": [
       "array(['Level 2', 'Level 1', 'Level 4', 'Level 3', 'Underground 1',\n",
       "       'Ground Level'], dtype=object)"
      ]
     },
     "execution_count": 215,
     "metadata": {},
     "output_type": "execute_result"
    }
   ],
   "source": [
    "# check distinct parking location after fixing\n",
    "df_fixed['Location Group'].unique()"
   ]
  },
  {
   "cell_type": "markdown",
   "id": "017476d8-360c-42b2-b678-87ceb0a4fdd5",
   "metadata": {},
   "source": [
    "#### Rename or Drop Irrelevant Columns\n",
    "```Clean column names and remove unused or redundant fields```"
   ]
  },
  {
   "cell_type": "code",
   "execution_count": 216,
   "id": "25cddefe-1c5c-46cf-9399-6221cc548886",
   "metadata": {},
   "outputs": [],
   "source": [
    "# ID, App Zone Id and Kiosk Id are not useful for our analysis, so we can drop these columns\n",
    "df_fixed = df_fixed.drop([\"ID\", \"App Zone ID\", \"Kiosk ID\", \"Last Updated\"], axis=1)"
   ]
  },
  {
   "cell_type": "code",
   "execution_count": 217,
   "id": "c1cbc57c-05a1-45e8-bb53-4cc01f458b5f",
   "metadata": {},
   "outputs": [
    {
     "name": "stdout",
     "output_type": "stream",
     "text": [
      "<class 'pandas.core.frame.DataFrame'>\n",
      "Index: 658447 entries, 0 to 658685\n",
      "Data columns (total 6 columns):\n",
      " #   Column          Non-Null Count   Dtype  \n",
      "---  ------          --------------   -----  \n",
      " 0   Source          658447 non-null  object \n",
      " 1   Start Time      658447 non-null  object \n",
      " 2   End Time        658447 non-null  object \n",
      " 3   Amount          658447 non-null  float64\n",
      " 4   Payment Method  658447 non-null  object \n",
      " 5   Location Group  658447 non-null  object \n",
      "dtypes: float64(1), object(5)\n",
      "memory usage: 35.2+ MB\n"
     ]
    }
   ],
   "source": [
    "df_fixed.info()"
   ]
  },
  {
   "cell_type": "code",
   "execution_count": 218,
   "id": "f570ebc3-1e68-4ab7-9ce8-1da1dcebb902",
   "metadata": {},
   "outputs": [
    {
     "data": {
      "text/plain": [
       "Source            0\n",
       "Start Time        0\n",
       "End Time          0\n",
       "Amount            0\n",
       "Payment Method    0\n",
       "Location Group    0\n",
       "dtype: int64"
      ]
     },
     "execution_count": 218,
     "metadata": {},
     "output_type": "execute_result"
    }
   ],
   "source": [
    "df_fixed.isnull().sum()"
   ]
  },
  {
   "cell_type": "code",
   "execution_count": 184,
   "id": "ed864f57-b26a-4152-a091-74e0b68e6f48",
   "metadata": {},
   "outputs": [],
   "source": [
    "# df_fixed has all the missing value fixed"
   ]
  },
  {
   "cell_type": "markdown",
   "id": "dd441285-a48c-4d65-a646-7e3f8738d293",
   "metadata": {},
   "source": [
    "#### Fix Data Types\n",
    "```Fixing column data types helps in performing required arithmetic or string operations. It ensure columns are in the correct format (e.g., dates, integers, floats).```"
   ]
  },
  {
   "cell_type": "code",
   "execution_count": 185,
   "id": "1b914036-a155-4dc2-9edc-985598a2f4e8",
   "metadata": {},
   "outputs": [
    {
     "data": {
      "text/plain": [
       "Source             object\n",
       "Start Time         object\n",
       "End Time           object\n",
       "Amount            float64\n",
       "Payment Method     object\n",
       "Location Group     object\n",
       "dtype: object"
      ]
     },
     "execution_count": 185,
     "metadata": {},
     "output_type": "execute_result"
    }
   ],
   "source": [
    "df_fixed.dtypes"
   ]
  },
  {
   "cell_type": "code",
   "execution_count": 219,
   "id": "8541ca94-683d-49bd-b311-0f2cd3e91773",
   "metadata": {},
   "outputs": [],
   "source": [
    "df_fixed[\"Source\"] = df_fixed[\"Source\"].astype(\"string\")\n",
    "df_fixed['Start Time'] = pd.to_datetime(df['Start Time'], format='%m/%d/%Y %H:%M')\n",
    "df_fixed['End Time'] = pd.to_datetime(df['End Time'], format='%m/%d/%Y %H:%M')\n",
    "df_fixed[\"Payment Method\"] = df_fixed[\"Payment Method\"].astype(\"string\")\n",
    "df_fixed[\"Location Group\"] = df_fixed[\"Location Group\"].astype(\"string\")"
   ]
  },
  {
   "cell_type": "code",
   "execution_count": 220,
   "id": "628d9167-883c-4758-ab5a-e91e4d6a3e0a",
   "metadata": {},
   "outputs": [
    {
     "data": {
      "text/html": [
       "<div>\n",
       "<style scoped>\n",
       "    .dataframe tbody tr th:only-of-type {\n",
       "        vertical-align: middle;\n",
       "    }\n",
       "\n",
       "    .dataframe tbody tr th {\n",
       "        vertical-align: top;\n",
       "    }\n",
       "\n",
       "    .dataframe thead th {\n",
       "        text-align: right;\n",
       "    }\n",
       "</style>\n",
       "<table border=\"1\" class=\"dataframe\">\n",
       "  <thead>\n",
       "    <tr style=\"text-align: right;\">\n",
       "      <th></th>\n",
       "      <th>Source</th>\n",
       "      <th>Start Time</th>\n",
       "      <th>End Time</th>\n",
       "      <th>Amount</th>\n",
       "      <th>Payment Method</th>\n",
       "      <th>Location Group</th>\n",
       "    </tr>\n",
       "  </thead>\n",
       "  <tbody>\n",
       "    <tr>\n",
       "      <th>0</th>\n",
       "      <td>Parking Meters</td>\n",
       "      <td>2023-03-16 20:19:00</td>\n",
       "      <td>2023-03-16 23:58:00</td>\n",
       "      <td>3.3</td>\n",
       "      <td>CARD</td>\n",
       "      <td>Level 2</td>\n",
       "    </tr>\n",
       "    <tr>\n",
       "      <th>1</th>\n",
       "      <td>Parking Meters</td>\n",
       "      <td>2023-03-16 20:19:00</td>\n",
       "      <td>2023-03-16 22:34:00</td>\n",
       "      <td>3.3</td>\n",
       "      <td>CARD</td>\n",
       "      <td>Level 2</td>\n",
       "    </tr>\n",
       "    <tr>\n",
       "      <th>2</th>\n",
       "      <td>Parking Meters</td>\n",
       "      <td>2023-03-16 20:20:00</td>\n",
       "      <td>2023-03-16 23:58:00</td>\n",
       "      <td>3.3</td>\n",
       "      <td>CARD</td>\n",
       "      <td>Level 1</td>\n",
       "    </tr>\n",
       "    <tr>\n",
       "      <th>3</th>\n",
       "      <td>Parking Meters</td>\n",
       "      <td>2023-03-16 20:19:00</td>\n",
       "      <td>2023-03-16 22:34:00</td>\n",
       "      <td>3.3</td>\n",
       "      <td>CARD</td>\n",
       "      <td>Level 2</td>\n",
       "    </tr>\n",
       "    <tr>\n",
       "      <th>4</th>\n",
       "      <td>Passport - app</td>\n",
       "      <td>2023-09-09 18:41:00</td>\n",
       "      <td>2023-09-09 20:11:00</td>\n",
       "      <td>3.3</td>\n",
       "      <td>App - Wallet</td>\n",
       "      <td>Level 1</td>\n",
       "    </tr>\n",
       "  </tbody>\n",
       "</table>\n",
       "</div>"
      ],
      "text/plain": [
       "           Source          Start Time            End Time  Amount  \\\n",
       "0  Parking Meters 2023-03-16 20:19:00 2023-03-16 23:58:00     3.3   \n",
       "1  Parking Meters 2023-03-16 20:19:00 2023-03-16 22:34:00     3.3   \n",
       "2  Parking Meters 2023-03-16 20:20:00 2023-03-16 23:58:00     3.3   \n",
       "3  Parking Meters 2023-03-16 20:19:00 2023-03-16 22:34:00     3.3   \n",
       "4  Passport - app 2023-09-09 18:41:00 2023-09-09 20:11:00     3.3   \n",
       "\n",
       "  Payment Method Location Group  \n",
       "0           CARD        Level 2  \n",
       "1           CARD        Level 2  \n",
       "2           CARD        Level 1  \n",
       "3           CARD        Level 2  \n",
       "4   App - Wallet        Level 1  "
      ]
     },
     "execution_count": 220,
     "metadata": {},
     "output_type": "execute_result"
    }
   ],
   "source": [
    "df_fixed.head()"
   ]
  },
  {
   "cell_type": "code",
   "execution_count": 221,
   "id": "99f72c17-5904-46f0-8ae4-ff7b8d1b3a17",
   "metadata": {},
   "outputs": [
    {
     "data": {
      "text/plain": [
       "Source            string[python]\n",
       "Start Time        datetime64[ns]\n",
       "End Time          datetime64[ns]\n",
       "Amount                   float64\n",
       "Payment Method    string[python]\n",
       "Location Group    string[python]\n",
       "dtype: object"
      ]
     },
     "execution_count": 221,
     "metadata": {},
     "output_type": "execute_result"
    }
   ],
   "source": [
    "df_fixed.dtypes"
   ]
  },
  {
   "cell_type": "markdown",
   "id": "59a79869-9fa2-48a3-ab9f-6ba19c04430c",
   "metadata": {},
   "source": [
    "#### Standardize Formatting and Column Names\n",
    "```Standardize columns name, here we are replacing spaces from the column name with _ and changing name to lowercase```"
   ]
  },
  {
   "cell_type": "code",
   "execution_count": 222,
   "id": "44a9ac4b-bb72-4124-8541-7fad7f9ffda8",
   "metadata": {},
   "outputs": [],
   "source": [
    "df_fixed = df_fixed.rename(columns={\n",
    "    'Source': 'source',\n",
    "    'Start Time': 'start_time',\n",
    "    'End Time': 'end_time',\n",
    "    'Location Group': 'location_group',\n",
    "    'Amount': 'amount',\n",
    "    'Payment Method': 'payment_method',\n",
    "    'Location Group': 'location_group'\n",
    "})"
   ]
  },
  {
   "cell_type": "code",
   "execution_count": 223,
   "id": "c4b33684-8f1f-46d0-aed5-117b3549e601",
   "metadata": {},
   "outputs": [
    {
     "data": {
      "text/html": [
       "<div>\n",
       "<style scoped>\n",
       "    .dataframe tbody tr th:only-of-type {\n",
       "        vertical-align: middle;\n",
       "    }\n",
       "\n",
       "    .dataframe tbody tr th {\n",
       "        vertical-align: top;\n",
       "    }\n",
       "\n",
       "    .dataframe thead th {\n",
       "        text-align: right;\n",
       "    }\n",
       "</style>\n",
       "<table border=\"1\" class=\"dataframe\">\n",
       "  <thead>\n",
       "    <tr style=\"text-align: right;\">\n",
       "      <th></th>\n",
       "      <th>source</th>\n",
       "      <th>start_time</th>\n",
       "      <th>end_time</th>\n",
       "      <th>amount</th>\n",
       "      <th>payment_method</th>\n",
       "      <th>location_group</th>\n",
       "    </tr>\n",
       "  </thead>\n",
       "  <tbody>\n",
       "    <tr>\n",
       "      <th>0</th>\n",
       "      <td>Parking Meters</td>\n",
       "      <td>2023-03-16 20:19:00</td>\n",
       "      <td>2023-03-16 23:58:00</td>\n",
       "      <td>3.3</td>\n",
       "      <td>CARD</td>\n",
       "      <td>Level 2</td>\n",
       "    </tr>\n",
       "    <tr>\n",
       "      <th>1</th>\n",
       "      <td>Parking Meters</td>\n",
       "      <td>2023-03-16 20:19:00</td>\n",
       "      <td>2023-03-16 22:34:00</td>\n",
       "      <td>3.3</td>\n",
       "      <td>CARD</td>\n",
       "      <td>Level 2</td>\n",
       "    </tr>\n",
       "    <tr>\n",
       "      <th>2</th>\n",
       "      <td>Parking Meters</td>\n",
       "      <td>2023-03-16 20:20:00</td>\n",
       "      <td>2023-03-16 23:58:00</td>\n",
       "      <td>3.3</td>\n",
       "      <td>CARD</td>\n",
       "      <td>Level 1</td>\n",
       "    </tr>\n",
       "    <tr>\n",
       "      <th>3</th>\n",
       "      <td>Parking Meters</td>\n",
       "      <td>2023-03-16 20:19:00</td>\n",
       "      <td>2023-03-16 22:34:00</td>\n",
       "      <td>3.3</td>\n",
       "      <td>CARD</td>\n",
       "      <td>Level 2</td>\n",
       "    </tr>\n",
       "    <tr>\n",
       "      <th>4</th>\n",
       "      <td>Passport - app</td>\n",
       "      <td>2023-09-09 18:41:00</td>\n",
       "      <td>2023-09-09 20:11:00</td>\n",
       "      <td>3.3</td>\n",
       "      <td>App - Wallet</td>\n",
       "      <td>Level 1</td>\n",
       "    </tr>\n",
       "  </tbody>\n",
       "</table>\n",
       "</div>"
      ],
      "text/plain": [
       "           source          start_time            end_time  amount  \\\n",
       "0  Parking Meters 2023-03-16 20:19:00 2023-03-16 23:58:00     3.3   \n",
       "1  Parking Meters 2023-03-16 20:19:00 2023-03-16 22:34:00     3.3   \n",
       "2  Parking Meters 2023-03-16 20:20:00 2023-03-16 23:58:00     3.3   \n",
       "3  Parking Meters 2023-03-16 20:19:00 2023-03-16 22:34:00     3.3   \n",
       "4  Passport - app 2023-09-09 18:41:00 2023-09-09 20:11:00     3.3   \n",
       "\n",
       "  payment_method location_group  \n",
       "0           CARD        Level 2  \n",
       "1           CARD        Level 2  \n",
       "2           CARD        Level 1  \n",
       "3           CARD        Level 2  \n",
       "4   App - Wallet        Level 1  "
      ]
     },
     "execution_count": 223,
     "metadata": {},
     "output_type": "execute_result"
    }
   ],
   "source": [
    "df_fixed.head() # This is our final clean data with no duplicates and missing values"
   ]
  },
  {
   "cell_type": "code",
   "execution_count": 224,
   "id": "6955fe69-66f8-4f30-a8c5-9b38f0235177",
   "metadata": {
    "scrolled": true
   },
   "outputs": [
    {
     "data": {
      "text/html": [
       "<div>\n",
       "<style scoped>\n",
       "    .dataframe tbody tr th:only-of-type {\n",
       "        vertical-align: middle;\n",
       "    }\n",
       "\n",
       "    .dataframe tbody tr th {\n",
       "        vertical-align: top;\n",
       "    }\n",
       "\n",
       "    .dataframe thead th {\n",
       "        text-align: right;\n",
       "    }\n",
       "</style>\n",
       "<table border=\"1\" class=\"dataframe\">\n",
       "  <thead>\n",
       "    <tr style=\"text-align: right;\">\n",
       "      <th></th>\n",
       "      <th>source</th>\n",
       "      <th>start_time</th>\n",
       "      <th>end_time</th>\n",
       "      <th>amount</th>\n",
       "      <th>payment_method</th>\n",
       "      <th>location_group</th>\n",
       "      <th>duration_minutes</th>\n",
       "    </tr>\n",
       "  </thead>\n",
       "  <tbody>\n",
       "    <tr>\n",
       "      <th>0</th>\n",
       "      <td>Parking Meters</td>\n",
       "      <td>2023-03-16 20:19:00</td>\n",
       "      <td>2023-03-16 23:58:00</td>\n",
       "      <td>3.3</td>\n",
       "      <td>CARD</td>\n",
       "      <td>Level 2</td>\n",
       "      <td>219.0</td>\n",
       "    </tr>\n",
       "    <tr>\n",
       "      <th>1</th>\n",
       "      <td>Parking Meters</td>\n",
       "      <td>2023-03-16 20:19:00</td>\n",
       "      <td>2023-03-16 22:34:00</td>\n",
       "      <td>3.3</td>\n",
       "      <td>CARD</td>\n",
       "      <td>Level 2</td>\n",
       "      <td>135.0</td>\n",
       "    </tr>\n",
       "    <tr>\n",
       "      <th>2</th>\n",
       "      <td>Parking Meters</td>\n",
       "      <td>2023-03-16 20:20:00</td>\n",
       "      <td>2023-03-16 23:58:00</td>\n",
       "      <td>3.3</td>\n",
       "      <td>CARD</td>\n",
       "      <td>Level 1</td>\n",
       "      <td>218.0</td>\n",
       "    </tr>\n",
       "    <tr>\n",
       "      <th>3</th>\n",
       "      <td>Parking Meters</td>\n",
       "      <td>2023-03-16 20:19:00</td>\n",
       "      <td>2023-03-16 22:34:00</td>\n",
       "      <td>3.3</td>\n",
       "      <td>CARD</td>\n",
       "      <td>Level 2</td>\n",
       "      <td>135.0</td>\n",
       "    </tr>\n",
       "    <tr>\n",
       "      <th>4</th>\n",
       "      <td>Passport - app</td>\n",
       "      <td>2023-09-09 18:41:00</td>\n",
       "      <td>2023-09-09 20:11:00</td>\n",
       "      <td>3.3</td>\n",
       "      <td>App - Wallet</td>\n",
       "      <td>Level 1</td>\n",
       "      <td>90.0</td>\n",
       "    </tr>\n",
       "  </tbody>\n",
       "</table>\n",
       "</div>"
      ],
      "text/plain": [
       "           source          start_time            end_time  amount  \\\n",
       "0  Parking Meters 2023-03-16 20:19:00 2023-03-16 23:58:00     3.3   \n",
       "1  Parking Meters 2023-03-16 20:19:00 2023-03-16 22:34:00     3.3   \n",
       "2  Parking Meters 2023-03-16 20:20:00 2023-03-16 23:58:00     3.3   \n",
       "3  Parking Meters 2023-03-16 20:19:00 2023-03-16 22:34:00     3.3   \n",
       "4  Passport - app 2023-09-09 18:41:00 2023-09-09 20:11:00     3.3   \n",
       "\n",
       "  payment_method location_group  duration_minutes  \n",
       "0           CARD        Level 2             219.0  \n",
       "1           CARD        Level 2             135.0  \n",
       "2           CARD        Level 1             218.0  \n",
       "3           CARD        Level 2             135.0  \n",
       "4   App - Wallet        Level 1              90.0  "
      ]
     },
     "execution_count": 224,
     "metadata": {},
     "output_type": "execute_result"
    }
   ],
   "source": [
    "df_fixed[\"duration_minutes\"] = (df_fixed['end_time'] - df_fixed['start_time']).dt.total_seconds() / 60\n",
    "df_fixed.head()"
   ]
  },
  {
   "cell_type": "code",
   "execution_count": 229,
   "id": "f740d77a-25fa-422f-8a04-a668395ce530",
   "metadata": {},
   "outputs": [
    {
     "name": "stdout",
     "output_type": "stream",
     "text": [
      "<class 'pandas.core.frame.DataFrame'>\n",
      "Index: 658447 entries, 0 to 658685\n",
      "Data columns (total 7 columns):\n",
      " #   Column            Non-Null Count   Dtype         \n",
      "---  ------            --------------   -----         \n",
      " 0   source            658447 non-null  string        \n",
      " 1   start_time        658447 non-null  datetime64[ns]\n",
      " 2   end_time          658447 non-null  datetime64[ns]\n",
      " 3   amount            658447 non-null  float64       \n",
      " 4   payment_method    658447 non-null  string        \n",
      " 5   location_group    658447 non-null  string        \n",
      " 6   duration_minutes  658447 non-null  float64       \n",
      "dtypes: datetime64[ns](2), float64(2), string(3)\n",
      "memory usage: 40.2 MB\n"
     ]
    }
   ],
   "source": [
    "df_fixed.info()"
   ]
  },
  {
   "cell_type": "markdown",
   "id": "764f9438-76ad-4759-b557-ca9805d1d258",
   "metadata": {},
   "source": [
    "#### Validate Data Ranges and Logic\n",
    "```Check if values fall within expected ranges or if dates/times are logically consistent.```"
   ]
  },
  {
   "cell_type": "code",
   "execution_count": 240,
   "id": "bb285715-17aa-42c1-9bb5-de10eb7213e7",
   "metadata": {},
   "outputs": [
    {
     "name": "stdout",
     "output_type": "stream",
     "text": [
      "Records with invalid durations:\n",
      "Empty DataFrame\n",
      "Columns: [source, start_time, end_time, amount, payment_method, location_group, duration_minutes]\n",
      "Index: []\n"
     ]
    }
   ],
   "source": [
    "# Check for negative or zero durations\n",
    "invalid_durations = df_fixed[df_fixed['duration_minutes'] < 0]\n",
    "print(f\"Records with invalid durations:\\n{invalid_durations}\")\n"
   ]
  },
  {
   "cell_type": "code",
   "execution_count": 243,
   "id": "064c857b-31e9-42a5-aa65-1e422eab298e",
   "metadata": {},
   "outputs": [
    {
     "name": "stdout",
     "output_type": "stream",
     "text": [
      "Records with negative Amount:\n",
      "Empty DataFrame\n",
      "Columns: [source, start_time, end_time, amount, payment_method, location_group, duration_minutes]\n",
      "Index: []\n"
     ]
    }
   ],
   "source": [
    "# check for invalid amounts\n",
    "invalid_amounts = df_fixed[df_fixed['amount'] < 0]\n",
    "print(f\"Records with negative Amount:\\n{invalid_amounts}\")"
   ]
  },
  {
   "cell_type": "code",
   "execution_count": 244,
   "id": "b881cb47-2014-44d1-8374-309c5465a620",
   "metadata": {},
   "outputs": [
    {
     "name": "stdout",
     "output_type": "stream",
     "text": [
      "Records where Start Time is after End Time:\n",
      "Empty DataFrame\n",
      "Columns: [source, start_time, end_time, amount, payment_method, location_group, duration_minutes]\n",
      "Index: []\n"
     ]
    }
   ],
   "source": [
    "# Check for invalid start time\n",
    "invalid_times = df_fixed[df_fixed['start_time'] > df_fixed['end_time']]\n",
    "print(f\"Records where Start Time is after End Time:\\n{invalid_times}\")"
   ]
  },
  {
   "cell_type": "markdown",
   "id": "89f00c8c-7447-42e9-803c-fb0c90d21b42",
   "metadata": {},
   "source": []
  },
  {
   "cell_type": "markdown",
   "id": "2a72ea96-2bb9-4a41-899c-cc0df60b05d9",
   "metadata": {},
   "source": [
    "### Write Cleansed Data to SQL Server for further processing and EDA"
   ]
  },
  {
   "cell_type": "code",
   "execution_count": 247,
   "id": "37d2cce9-87f3-479a-ab97-55272087df6f",
   "metadata": {},
   "outputs": [
    {
     "data": {
      "text/plain": [
       "49"
      ]
     },
     "execution_count": 247,
     "metadata": {},
     "output_type": "execute_result"
    }
   ],
   "source": [
    "# Create connection string\n",
    "server = 'localhost'          # e.g., 'localhost\\SQLEXPRESS'\n",
    "database = 'DB_AirportParking'      # e.g., 'ParkingDB'\n",
    "username = 'YOUR_USERNAME'           # optional if using Windows Auth\n",
    "password = 'YOUR_PASSWORD'           # optional if using Windows Auth\n",
    "\n",
    "# Use Windows Authentication (trusted connection)\n",
    "conn_str = f\"mssql+pyodbc://{server}/{database}?driver=ODBC+Driver+17+for+SQL+Server&trusted_connection=yes\"\n",
    "\n",
    "# OR use SQL Server Authentication:\n",
    "# conn_str = f\"mssql+pyodbc://{username}:{password}@{server}/{database}?driver=ODBC+Driver+17+for+SQL+Server\"\n",
    "\n",
    "# Create SQLAlchemy engine\n",
    "engine = create_engine(conn_str)\n",
    "\n",
    "# Write to SQL (replace 'your_table_name' with actual table name)\n",
    "df_fixed.to_sql('airport_parking_transactions', con=engine, if_exists='replace', index=False)"
   ]
  },
  {
   "cell_type": "code",
   "execution_count": null,
   "id": "a0482ed5-e7fa-4659-a8ff-50e065d5f52b",
   "metadata": {},
   "outputs": [],
   "source": []
  }
 ],
 "metadata": {
  "kernelspec": {
   "display_name": "Python 3 (ipykernel)",
   "language": "python",
   "name": "python3"
  },
  "language_info": {
   "codemirror_mode": {
    "name": "ipython",
    "version": 3
   },
   "file_extension": ".py",
   "mimetype": "text/x-python",
   "name": "python",
   "nbconvert_exporter": "python",
   "pygments_lexer": "ipython3",
   "version": "3.13.5"
  }
 },
 "nbformat": 4,
 "nbformat_minor": 5
}
