{
 "cells": [
  {
   "cell_type": "code",
   "execution_count": 5,
   "id": "97a2a3f0-575e-4d91-a027-753d865220c1",
   "metadata": {},
   "outputs": [],
   "source": [
    "\n",
    "import pandas as pd\n",
    "import numpy as np\n",
    "from sqlalchemy import create_engine"
   ]
  },
  {
   "cell_type": "code",
   "execution_count": 7,
   "id": "1b9f01b8-3542-47cc-a7ef-3f06e8b665b2",
   "metadata": {},
   "outputs": [],
   "source": [
    "\n",
    "\n",
    "server = 'localhost'\n",
    "database = 'DB_AirportParking'\n",
    "\n",
    "# Connection string format for Windows Authentication using pyodbc and SQL Server\n",
    "connection_string = (\n",
    "    f\"mssql+pyodbc://@{server}/{database}?driver=ODBC+Driver+17+for+SQL+Server&trusted_connection=yes\"\n",
    ")\n",
    "\n",
    "# Create SQLAlchemy engine\n",
    "engine = create_engine(connection_string)\n",
    "\n",
    "# SQL query\n",
    "query = \"SELECT * FROM airport_parking_transactions\"\n",
    "\n",
    "# Read SQL query into DataFrame\n",
    "df = pd.read_sql(query, engine)\n",
    "\n"
   ]
  },
  {
   "cell_type": "code",
   "execution_count": 8,
   "id": "f9e47071-986c-431b-980f-71f9f2150318",
   "metadata": {},
   "outputs": [
    {
     "data": {
      "text/html": [
       "<div>\n",
       "<style scoped>\n",
       "    .dataframe tbody tr th:only-of-type {\n",
       "        vertical-align: middle;\n",
       "    }\n",
       "\n",
       "    .dataframe tbody tr th {\n",
       "        vertical-align: top;\n",
       "    }\n",
       "\n",
       "    .dataframe thead th {\n",
       "        text-align: right;\n",
       "    }\n",
       "</style>\n",
       "<table border=\"1\" class=\"dataframe\">\n",
       "  <thead>\n",
       "    <tr style=\"text-align: right;\">\n",
       "      <th></th>\n",
       "      <th>source</th>\n",
       "      <th>start_time</th>\n",
       "      <th>end_time</th>\n",
       "      <th>amount</th>\n",
       "      <th>payment_method</th>\n",
       "      <th>location_group</th>\n",
       "      <th>duration_minutes</th>\n",
       "    </tr>\n",
       "  </thead>\n",
       "  <tbody>\n",
       "    <tr>\n",
       "      <th>0</th>\n",
       "      <td>Parking Meters</td>\n",
       "      <td>2023-03-16 20:19:00</td>\n",
       "      <td>2023-03-16 23:58:00</td>\n",
       "      <td>3.3</td>\n",
       "      <td>CARD</td>\n",
       "      <td>Level 2</td>\n",
       "      <td>219.0</td>\n",
       "    </tr>\n",
       "    <tr>\n",
       "      <th>1</th>\n",
       "      <td>Parking Meters</td>\n",
       "      <td>2023-03-16 20:19:00</td>\n",
       "      <td>2023-03-16 22:34:00</td>\n",
       "      <td>3.3</td>\n",
       "      <td>CARD</td>\n",
       "      <td>Level 2</td>\n",
       "      <td>135.0</td>\n",
       "    </tr>\n",
       "    <tr>\n",
       "      <th>2</th>\n",
       "      <td>Parking Meters</td>\n",
       "      <td>2023-03-16 20:20:00</td>\n",
       "      <td>2023-03-16 23:58:00</td>\n",
       "      <td>3.3</td>\n",
       "      <td>CARD</td>\n",
       "      <td>Level 1</td>\n",
       "      <td>218.0</td>\n",
       "    </tr>\n",
       "    <tr>\n",
       "      <th>3</th>\n",
       "      <td>Parking Meters</td>\n",
       "      <td>2023-03-16 20:19:00</td>\n",
       "      <td>2023-03-16 22:34:00</td>\n",
       "      <td>3.3</td>\n",
       "      <td>CARD</td>\n",
       "      <td>Level 2</td>\n",
       "      <td>135.0</td>\n",
       "    </tr>\n",
       "    <tr>\n",
       "      <th>4</th>\n",
       "      <td>Passport - app</td>\n",
       "      <td>2023-09-09 18:41:00</td>\n",
       "      <td>2023-09-09 20:11:00</td>\n",
       "      <td>3.3</td>\n",
       "      <td>App - Wallet</td>\n",
       "      <td>Level 1</td>\n",
       "      <td>90.0</td>\n",
       "    </tr>\n",
       "  </tbody>\n",
       "</table>\n",
       "</div>"
      ],
      "text/plain": [
       "           source          start_time            end_time  amount  \\\n",
       "0  Parking Meters 2023-03-16 20:19:00 2023-03-16 23:58:00     3.3   \n",
       "1  Parking Meters 2023-03-16 20:19:00 2023-03-16 22:34:00     3.3   \n",
       "2  Parking Meters 2023-03-16 20:20:00 2023-03-16 23:58:00     3.3   \n",
       "3  Parking Meters 2023-03-16 20:19:00 2023-03-16 22:34:00     3.3   \n",
       "4  Passport - app 2023-09-09 18:41:00 2023-09-09 20:11:00     3.3   \n",
       "\n",
       "  payment_method location_group  duration_minutes  \n",
       "0           CARD        Level 2             219.0  \n",
       "1           CARD        Level 2             135.0  \n",
       "2           CARD        Level 1             218.0  \n",
       "3           CARD        Level 2             135.0  \n",
       "4   App - Wallet        Level 1              90.0  "
      ]
     },
     "execution_count": 8,
     "metadata": {},
     "output_type": "execute_result"
    }
   ],
   "source": [
    "df.head()"
   ]
  },
  {
   "cell_type": "markdown",
   "id": "208f3d46-3a43-46e6-a325-e05cc0c0389e",
   "metadata": {},
   "source": [
    "#### Detect and Correct Outliers\n",
    "```Use visualizations (boxplots, histograms) or statistical thresholds to find abnormal values.```"
   ]
  },
  {
   "cell_type": "markdown",
   "id": "ca6ce226-1227-4dd8-93c1-8a83a204edf3",
   "metadata": {},
   "source": [
    "#### Exploratory Data Analysis"
   ]
  },
  {
   "cell_type": "markdown",
   "id": "c014622a-608a-440b-a3d0-2a9a506946ae",
   "metadata": {},
   "source": [
    "##### Analysing Payment Methods\n",
    "``` Main goal of this step is to understand following:\n",
    "1. What are the available payment methods?\n",
    "2. What is the ratio of each payment method?\n",
    "```"
   ]
  },
  {
   "cell_type": "markdown",
   "id": "64aa3562-9efb-4dac-b4c3-601a02c7aa4e",
   "metadata": {},
   "source": [
    "##### Conclusion:\n",
    "```\n",
    "1. What are the available payment methods?\n",
    "- Available payment method: 'CARD' 'App - Wallet' 'COINS' 'App - Credit Card' 'Apple Pay'\n",
    " 'App - Validation' 'Google Pay' 'App - Free'\n",
    "\n",
    "2. What is the ratio of each payment method?\n",
    "- As per above bar plot we can see 55% customers are using \"App-Wallet\" as their preferred payment method. In the second place around 37%\n",
    "customers are using \"CARD\". So collectively 92% payment revenu is being generated from \"App-Wallet\" & \"CARD\" payment.\n",
    "```"
   ]
  },
  {
   "cell_type": "markdown",
   "id": "9e497831-17ed-416f-99c9-9c31accef62f",
   "metadata": {},
   "source": [
    "##### Analysing Kiosk Occupancy\n",
    "``` Main goal of this step is to understand following:\n",
    "1. What are the available Kiosk?\n",
    "2. What is the ratio of each kiosk?\n",
    "```"
   ]
  },
  {
   "cell_type": "code",
   "execution_count": null,
   "id": "543072b7-3b3f-4a6f-b2a4-30f5b27aa565",
   "metadata": {},
   "outputs": [],
   "source": []
  }
 ],
 "metadata": {
  "kernelspec": {
   "display_name": "Python 3 (ipykernel)",
   "language": "python",
   "name": "python3"
  },
  "language_info": {
   "codemirror_mode": {
    "name": "ipython",
    "version": 3
   },
   "file_extension": ".py",
   "mimetype": "text/x-python",
   "name": "python",
   "nbconvert_exporter": "python",
   "pygments_lexer": "ipython3",
   "version": "3.13.5"
  }
 },
 "nbformat": 4,
 "nbformat_minor": 5
}
